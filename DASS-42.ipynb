{
 "cells": [
  {
   "cell_type": "code",
   "execution_count": 55,
   "metadata": {
    "_cell_guid": "b1076dfc-b9ad-4769-8c92-a6c4dae69d19",
    "_uuid": "8f2839f25d086af736a60e9eeb907d3b93b6e0e5",
    "execution": {
     "iopub.execute_input": "2023-10-01T03:10:05.016823Z",
     "iopub.status.busy": "2023-10-01T03:10:05.016442Z",
     "iopub.status.idle": "2023-10-01T03:10:05.778190Z",
     "shell.execute_reply": "2023-10-01T03:10:05.777116Z",
     "shell.execute_reply.started": "2023-10-01T03:10:05.016794Z"
    }
   },
   "outputs": [],
   "source": [
    "import numpy as np # linear algebra\n",
    "import pandas as pd # data processing, CSV file I/O (e.g. pd.read_csv)"
   ]
  },
  {
   "cell_type": "markdown",
   "metadata": {},
   "source": [
    "# ** Depression Anxiety Stress Prediction**"
   ]
  },
  {
   "cell_type": "code",
   "execution_count": 56,
   "metadata": {
    "execution": {
     "iopub.execute_input": "2023-10-01T11:32:22.248030Z",
     "iopub.status.busy": "2023-10-01T11:32:22.247603Z",
     "iopub.status.idle": "2023-10-01T11:32:22.254806Z",
     "shell.execute_reply": "2023-10-01T11:32:22.253678Z",
     "shell.execute_reply.started": "2023-10-01T11:32:22.248000Z"
    }
   },
   "outputs": [],
   "source": [
    "from sklearn.model_selection import train_test_split,cross_val_score\n",
    "from sklearn.preprocessing import MinMaxScaler\n",
    "from sklearn.ensemble import RandomForestClassifier\n",
    "from sklearn.naive_bayes import GaussianNB\n",
    "from sklearn.tree import DecisionTreeClassifier\n",
    "from sklearn.neighbors import KNeighborsClassifier\n",
    "from sklearn import svm\n",
    "from sklearn.metrics import confusion_matrix,accuracy_score,precision_score, recall_score, f1_score,roc_auc_score,classification_report,mean_squared_error"
   ]
  },
  {
   "cell_type": "code",
   "execution_count": 57,
   "metadata": {
    "execution": {
     "iopub.execute_input": "2023-10-01T11:20:07.603838Z",
     "iopub.status.busy": "2023-10-01T11:20:07.602959Z",
     "iopub.status.idle": "2023-10-01T11:20:08.254153Z",
     "shell.execute_reply": "2023-10-01T11:20:08.252993Z",
     "shell.execute_reply.started": "2023-10-01T11:20:07.603797Z"
    }
   },
   "outputs": [
    {
     "data": {
      "text/html": [
       "<div>\n",
       "<style scoped>\n",
       "    .dataframe tbody tr th:only-of-type {\n",
       "        vertical-align: middle;\n",
       "    }\n",
       "\n",
       "    .dataframe tbody tr th {\n",
       "        vertical-align: top;\n",
       "    }\n",
       "\n",
       "    .dataframe thead th {\n",
       "        text-align: right;\n",
       "    }\n",
       "</style>\n",
       "<table border=\"1\" class=\"dataframe\">\n",
       "  <thead>\n",
       "    <tr style=\"text-align: right;\">\n",
       "      <th></th>\n",
       "      <th>Q1A</th>\n",
       "      <th>Q1I</th>\n",
       "      <th>Q1E</th>\n",
       "      <th>Q2A</th>\n",
       "      <th>Q2I</th>\n",
       "      <th>Q2E</th>\n",
       "      <th>Q3A</th>\n",
       "      <th>Q3I</th>\n",
       "      <th>Q3E</th>\n",
       "      <th>Q4A</th>\n",
       "      <th>...</th>\n",
       "      <th>screensize</th>\n",
       "      <th>uniquenetworklocation</th>\n",
       "      <th>hand</th>\n",
       "      <th>religion</th>\n",
       "      <th>orientation</th>\n",
       "      <th>race</th>\n",
       "      <th>voted</th>\n",
       "      <th>married</th>\n",
       "      <th>familysize</th>\n",
       "      <th>major</th>\n",
       "    </tr>\n",
       "  </thead>\n",
       "  <tbody>\n",
       "    <tr>\n",
       "      <th>0</th>\n",
       "      <td>4</td>\n",
       "      <td>28</td>\n",
       "      <td>3890</td>\n",
       "      <td>4</td>\n",
       "      <td>25</td>\n",
       "      <td>2122</td>\n",
       "      <td>2</td>\n",
       "      <td>16</td>\n",
       "      <td>1944</td>\n",
       "      <td>4</td>\n",
       "      <td>...</td>\n",
       "      <td>1</td>\n",
       "      <td>1</td>\n",
       "      <td>1</td>\n",
       "      <td>12</td>\n",
       "      <td>1</td>\n",
       "      <td>10</td>\n",
       "      <td>2</td>\n",
       "      <td>1</td>\n",
       "      <td>2</td>\n",
       "      <td>NaN</td>\n",
       "    </tr>\n",
       "    <tr>\n",
       "      <th>1</th>\n",
       "      <td>4</td>\n",
       "      <td>2</td>\n",
       "      <td>8118</td>\n",
       "      <td>1</td>\n",
       "      <td>36</td>\n",
       "      <td>2890</td>\n",
       "      <td>2</td>\n",
       "      <td>35</td>\n",
       "      <td>4777</td>\n",
       "      <td>3</td>\n",
       "      <td>...</td>\n",
       "      <td>2</td>\n",
       "      <td>1</td>\n",
       "      <td>2</td>\n",
       "      <td>7</td>\n",
       "      <td>0</td>\n",
       "      <td>70</td>\n",
       "      <td>2</td>\n",
       "      <td>1</td>\n",
       "      <td>4</td>\n",
       "      <td>NaN</td>\n",
       "    </tr>\n",
       "    <tr>\n",
       "      <th>2</th>\n",
       "      <td>3</td>\n",
       "      <td>7</td>\n",
       "      <td>5784</td>\n",
       "      <td>1</td>\n",
       "      <td>33</td>\n",
       "      <td>4373</td>\n",
       "      <td>4</td>\n",
       "      <td>41</td>\n",
       "      <td>3242</td>\n",
       "      <td>1</td>\n",
       "      <td>...</td>\n",
       "      <td>2</td>\n",
       "      <td>1</td>\n",
       "      <td>1</td>\n",
       "      <td>4</td>\n",
       "      <td>3</td>\n",
       "      <td>60</td>\n",
       "      <td>1</td>\n",
       "      <td>1</td>\n",
       "      <td>3</td>\n",
       "      <td>NaN</td>\n",
       "    </tr>\n",
       "    <tr>\n",
       "      <th>3</th>\n",
       "      <td>2</td>\n",
       "      <td>23</td>\n",
       "      <td>5081</td>\n",
       "      <td>3</td>\n",
       "      <td>11</td>\n",
       "      <td>6837</td>\n",
       "      <td>2</td>\n",
       "      <td>37</td>\n",
       "      <td>5521</td>\n",
       "      <td>1</td>\n",
       "      <td>...</td>\n",
       "      <td>2</td>\n",
       "      <td>1</td>\n",
       "      <td>2</td>\n",
       "      <td>4</td>\n",
       "      <td>5</td>\n",
       "      <td>70</td>\n",
       "      <td>2</td>\n",
       "      <td>1</td>\n",
       "      <td>5</td>\n",
       "      <td>biology</td>\n",
       "    </tr>\n",
       "    <tr>\n",
       "      <th>4</th>\n",
       "      <td>2</td>\n",
       "      <td>36</td>\n",
       "      <td>3215</td>\n",
       "      <td>2</td>\n",
       "      <td>13</td>\n",
       "      <td>7731</td>\n",
       "      <td>3</td>\n",
       "      <td>5</td>\n",
       "      <td>4156</td>\n",
       "      <td>4</td>\n",
       "      <td>...</td>\n",
       "      <td>2</td>\n",
       "      <td>2</td>\n",
       "      <td>3</td>\n",
       "      <td>10</td>\n",
       "      <td>1</td>\n",
       "      <td>10</td>\n",
       "      <td>2</td>\n",
       "      <td>1</td>\n",
       "      <td>4</td>\n",
       "      <td>Psychology</td>\n",
       "    </tr>\n",
       "  </tbody>\n",
       "</table>\n",
       "<p>5 rows × 172 columns</p>\n",
       "</div>"
      ],
      "text/plain": [
       "   Q1A  Q1I   Q1E  Q2A  Q2I   Q2E  Q3A  Q3I   Q3E  Q4A  ...  screensize  \\\n",
       "0    4   28  3890    4   25  2122    2   16  1944    4  ...           1   \n",
       "1    4    2  8118    1   36  2890    2   35  4777    3  ...           2   \n",
       "2    3    7  5784    1   33  4373    4   41  3242    1  ...           2   \n",
       "3    2   23  5081    3   11  6837    2   37  5521    1  ...           2   \n",
       "4    2   36  3215    2   13  7731    3    5  4156    4  ...           2   \n",
       "\n",
       "   uniquenetworklocation  hand  religion  orientation  race  voted  married  \\\n",
       "0                      1     1        12            1    10      2        1   \n",
       "1                      1     2         7            0    70      2        1   \n",
       "2                      1     1         4            3    60      1        1   \n",
       "3                      1     2         4            5    70      2        1   \n",
       "4                      2     3        10            1    10      2        1   \n",
       "\n",
       "   familysize       major  \n",
       "0           2         NaN  \n",
       "1           4         NaN  \n",
       "2           3         NaN  \n",
       "3           5     biology  \n",
       "4           4  Psychology  \n",
       "\n",
       "[5 rows x 172 columns]"
      ]
     },
     "execution_count": 57,
     "metadata": {},
     "output_type": "execute_result"
    }
   ],
   "source": [
    "data=pd.read_csv('data.csv')\n",
    "data.head()"
   ]
  },
  {
   "cell_type": "code",
   "execution_count": 58,
   "metadata": {
    "execution": {
     "iopub.execute_input": "2023-10-01T11:20:14.455788Z",
     "iopub.status.busy": "2023-10-01T11:20:14.455395Z",
     "iopub.status.idle": "2023-10-01T11:20:14.595051Z",
     "shell.execute_reply": "2023-10-01T11:20:14.593823Z",
     "shell.execute_reply.started": "2023-10-01T11:20:14.455758Z"
    }
   },
   "outputs": [
    {
     "name": "stdout",
     "output_type": "stream",
     "text": [
      "Shape (39775, 68)\n",
      "Attributes Index(['Q1A', 'Q2A', 'Q3A', 'Q4A', 'Q5A', 'Q6A', 'Q7A', 'Q8A', 'Q9A', 'Q10A',\n",
      "       'Q11A', 'Q12A', 'Q13A', 'Q14A', 'Q15A', 'Q16A', 'Q17A', 'Q18A', 'Q19A',\n",
      "       'Q20A', 'Q21A', 'Q22A', 'Q23A', 'Q24A', 'Q25A', 'Q26A', 'Q27A', 'Q28A',\n",
      "       'Q29A', 'Q30A', 'Q31A', 'Q32A', 'Q33A', 'Q34A', 'Q35A', 'Q36A', 'Q37A',\n",
      "       'Q38A', 'Q39A', 'Q40A', 'Q41A', 'Q42A', 'country',\n",
      "       'Extraverted-enthusiastic', 'Critical-quarrelsome',\n",
      "       'Dependable-self_disciplined', 'Anxious-easily upset',\n",
      "       'Open to new experiences-complex', 'Reserved-quiet', 'Sympathetic-warm',\n",
      "       'Disorganized-careless', 'Calm-emotionally_stable',\n",
      "       'Conventional-uncreative', 'education', 'urban', 'gender', 'engnat',\n",
      "       'age', 'screensize', 'uniquenetworklocation', 'hand', 'religion',\n",
      "       'orientation', 'race', 'voted', 'married', 'familysize', 'major'],\n",
      "      dtype='object')\n"
     ]
    }
   ],
   "source": [
    "data_1=data.copy()\n",
    "data_1['major']=data_1['major'].replace(np.nan,'No Degree')\n",
    "time = [i for i in data_1.iloc[:,0:126] if  'E' in i]\n",
    "position = [i for i in data_1.iloc[:,0:126] if  'I' in i]\n",
    "data_1=data_1.drop(position,axis=1)\n",
    "data_1=data_1.drop(time,axis=1)\n",
    "data_1=data_1.drop(data_1.iloc[:,43:47],axis=1)\n",
    "data_2=data_1.copy()\n",
    "data_2=data_2.drop(data_2.iloc[:,53:69],axis=1)\n",
    "data_2=data_2.replace(to_replace=0,value=3)\n",
    "data_2=data_2.rename(columns={'TIPI1':'Extraverted-enthusiastic','TIPI2':'Critical-quarrelsome',\n",
    "                            'TIPI3':'Dependable-self_disciplined','TIPI4':'Anxious-easily upset',\n",
    "                            'TIPI5':'Open to new experiences-complex','TIPI6':'Reserved-quiet',\n",
    "                            'TIPI7':'Sympathetic-warm','TIPI8':'Disorganized-careless','TIPI9':'Calm-emotionally_stable',\n",
    "                            'TIPI10':'Conventional-uncreative'})\n",
    "print('Shape',data_2.shape)\n",
    "print('Attributes',data_2.columns)"
   ]
  },
  {
   "cell_type": "code",
   "execution_count": 59,
   "metadata": {
    "execution": {
     "iopub.execute_input": "2023-10-01T11:20:59.828149Z",
     "iopub.status.busy": "2023-10-01T11:20:59.827289Z",
     "iopub.status.idle": "2023-10-01T11:20:59.868812Z",
     "shell.execute_reply": "2023-10-01T11:20:59.868000Z",
     "shell.execute_reply.started": "2023-10-01T11:20:59.828101Z"
    }
   },
   "outputs": [],
   "source": [
    "data_2=data_2.replace([np.inf, -np.inf], np.nan)\n",
    "data_2=data_2.dropna()"
   ]
  },
  {
   "cell_type": "code",
   "execution_count": 60,
   "metadata": {
    "execution": {
     "iopub.execute_input": "2023-10-01T11:21:21.191728Z",
     "iopub.status.busy": "2023-10-01T11:21:21.190881Z",
     "iopub.status.idle": "2023-10-01T11:21:21.235399Z",
     "shell.execute_reply": "2023-10-01T11:21:21.234217Z",
     "shell.execute_reply.started": "2023-10-01T11:21:21.191682Z"
    }
   },
   "outputs": [
    {
     "data": {
      "text/html": [
       "<div>\n",
       "<style scoped>\n",
       "    .dataframe tbody tr th:only-of-type {\n",
       "        vertical-align: middle;\n",
       "    }\n",
       "\n",
       "    .dataframe tbody tr th {\n",
       "        vertical-align: top;\n",
       "    }\n",
       "\n",
       "    .dataframe thead th {\n",
       "        text-align: right;\n",
       "    }\n",
       "</style>\n",
       "<table border=\"1\" class=\"dataframe\">\n",
       "  <thead>\n",
       "    <tr style=\"text-align: right;\">\n",
       "      <th></th>\n",
       "      <th>Q1A</th>\n",
       "      <th>Q2A</th>\n",
       "      <th>Q3A</th>\n",
       "      <th>Q4A</th>\n",
       "      <th>Q5A</th>\n",
       "      <th>Q6A</th>\n",
       "      <th>Q7A</th>\n",
       "      <th>Q8A</th>\n",
       "      <th>Q9A</th>\n",
       "      <th>Q10A</th>\n",
       "      <th>...</th>\n",
       "      <th>uniquenetworklocation</th>\n",
       "      <th>hand</th>\n",
       "      <th>religion</th>\n",
       "      <th>orientation</th>\n",
       "      <th>race</th>\n",
       "      <th>voted</th>\n",
       "      <th>married</th>\n",
       "      <th>familysize</th>\n",
       "      <th>major</th>\n",
       "      <th>Age_Groups</th>\n",
       "    </tr>\n",
       "  </thead>\n",
       "  <tbody>\n",
       "    <tr>\n",
       "      <th>0</th>\n",
       "      <td>4</td>\n",
       "      <td>4</td>\n",
       "      <td>2</td>\n",
       "      <td>4</td>\n",
       "      <td>4</td>\n",
       "      <td>4</td>\n",
       "      <td>4</td>\n",
       "      <td>4</td>\n",
       "      <td>2</td>\n",
       "      <td>1</td>\n",
       "      <td>...</td>\n",
       "      <td>1</td>\n",
       "      <td>1</td>\n",
       "      <td>12</td>\n",
       "      <td>1</td>\n",
       "      <td>10</td>\n",
       "      <td>2</td>\n",
       "      <td>1</td>\n",
       "      <td>2</td>\n",
       "      <td>No Degree</td>\n",
       "      <td>Primary Children</td>\n",
       "    </tr>\n",
       "    <tr>\n",
       "      <th>1</th>\n",
       "      <td>4</td>\n",
       "      <td>1</td>\n",
       "      <td>2</td>\n",
       "      <td>3</td>\n",
       "      <td>4</td>\n",
       "      <td>4</td>\n",
       "      <td>3</td>\n",
       "      <td>4</td>\n",
       "      <td>3</td>\n",
       "      <td>2</td>\n",
       "      <td>...</td>\n",
       "      <td>1</td>\n",
       "      <td>2</td>\n",
       "      <td>7</td>\n",
       "      <td>3</td>\n",
       "      <td>70</td>\n",
       "      <td>2</td>\n",
       "      <td>1</td>\n",
       "      <td>4</td>\n",
       "      <td>No Degree</td>\n",
       "      <td>Primary Children</td>\n",
       "    </tr>\n",
       "    <tr>\n",
       "      <th>2</th>\n",
       "      <td>3</td>\n",
       "      <td>1</td>\n",
       "      <td>4</td>\n",
       "      <td>1</td>\n",
       "      <td>4</td>\n",
       "      <td>3</td>\n",
       "      <td>1</td>\n",
       "      <td>3</td>\n",
       "      <td>2</td>\n",
       "      <td>4</td>\n",
       "      <td>...</td>\n",
       "      <td>1</td>\n",
       "      <td>1</td>\n",
       "      <td>4</td>\n",
       "      <td>3</td>\n",
       "      <td>60</td>\n",
       "      <td>1</td>\n",
       "      <td>1</td>\n",
       "      <td>3</td>\n",
       "      <td>No Degree</td>\n",
       "      <td>Secondary Children</td>\n",
       "    </tr>\n",
       "    <tr>\n",
       "      <th>3</th>\n",
       "      <td>2</td>\n",
       "      <td>3</td>\n",
       "      <td>2</td>\n",
       "      <td>1</td>\n",
       "      <td>3</td>\n",
       "      <td>3</td>\n",
       "      <td>4</td>\n",
       "      <td>2</td>\n",
       "      <td>3</td>\n",
       "      <td>3</td>\n",
       "      <td>...</td>\n",
       "      <td>1</td>\n",
       "      <td>2</td>\n",
       "      <td>4</td>\n",
       "      <td>5</td>\n",
       "      <td>70</td>\n",
       "      <td>2</td>\n",
       "      <td>1</td>\n",
       "      <td>5</td>\n",
       "      <td>biology</td>\n",
       "      <td>Primary Children</td>\n",
       "    </tr>\n",
       "    <tr>\n",
       "      <th>4</th>\n",
       "      <td>2</td>\n",
       "      <td>2</td>\n",
       "      <td>3</td>\n",
       "      <td>4</td>\n",
       "      <td>4</td>\n",
       "      <td>2</td>\n",
       "      <td>4</td>\n",
       "      <td>4</td>\n",
       "      <td>4</td>\n",
       "      <td>3</td>\n",
       "      <td>...</td>\n",
       "      <td>2</td>\n",
       "      <td>3</td>\n",
       "      <td>10</td>\n",
       "      <td>1</td>\n",
       "      <td>10</td>\n",
       "      <td>2</td>\n",
       "      <td>1</td>\n",
       "      <td>4</td>\n",
       "      <td>Psychology</td>\n",
       "      <td>Secondary Children</td>\n",
       "    </tr>\n",
       "  </tbody>\n",
       "</table>\n",
       "<p>5 rows × 69 columns</p>\n",
       "</div>"
      ],
      "text/plain": [
       "   Q1A  Q2A  Q3A  Q4A  Q5A  Q6A  Q7A  Q8A  Q9A  Q10A  ...  \\\n",
       "0    4    4    2    4    4    4    4    4    2     1  ...   \n",
       "1    4    1    2    3    4    4    3    4    3     2  ...   \n",
       "2    3    1    4    1    4    3    1    3    2     4  ...   \n",
       "3    2    3    2    1    3    3    4    2    3     3  ...   \n",
       "4    2    2    3    4    4    2    4    4    4     3  ...   \n",
       "\n",
       "   uniquenetworklocation  hand  religion  orientation  race  voted  married  \\\n",
       "0                      1     1        12            1    10      2        1   \n",
       "1                      1     2         7            3    70      2        1   \n",
       "2                      1     1         4            3    60      1        1   \n",
       "3                      1     2         4            5    70      2        1   \n",
       "4                      2     3        10            1    10      2        1   \n",
       "\n",
       "   familysize       major          Age_Groups  \n",
       "0           2   No Degree    Primary Children  \n",
       "1           4   No Degree    Primary Children  \n",
       "2           3   No Degree  Secondary Children  \n",
       "3           5     biology    Primary Children  \n",
       "4           4  Psychology  Secondary Children  \n",
       "\n",
       "[5 rows x 69 columns]"
      ]
     },
     "execution_count": 60,
     "metadata": {},
     "output_type": "execute_result"
    }
   ],
   "source": [
    "def condition(x):\n",
    "    if x<=10:\n",
    "        return 'Under 10'\n",
    "    if  10<=x<=16:\n",
    "        return ' Primary Children'\n",
    "    if 17<=x<=21:\n",
    "        return 'Secondary Children'\n",
    "    if 21<=x<=35:\n",
    "        return 'Adults'\n",
    "    if 36<=x<=48:\n",
    "        return 'Elder Adults'\n",
    "    if x>=49:\n",
    "        return 'Older People'\n",
    "\n",
    "data_2['Age_Groups']=data_2['age'].apply(condition)\n",
    "data_2.head()"
   ]
  },
  {
   "cell_type": "code",
   "execution_count": 61,
   "metadata": {
    "execution": {
     "iopub.execute_input": "2023-10-01T11:21:32.474848Z",
     "iopub.status.busy": "2023-10-01T11:21:32.474435Z",
     "iopub.status.idle": "2023-10-01T11:21:32.504127Z",
     "shell.execute_reply": "2023-10-01T11:21:32.503242Z",
     "shell.execute_reply.started": "2023-10-01T11:21:32.474816Z"
    }
   },
   "outputs": [
    {
     "data": {
      "text/html": [
       "<div>\n",
       "<style scoped>\n",
       "    .dataframe tbody tr th:only-of-type {\n",
       "        vertical-align: middle;\n",
       "    }\n",
       "\n",
       "    .dataframe tbody tr th {\n",
       "        vertical-align: top;\n",
       "    }\n",
       "\n",
       "    .dataframe thead th {\n",
       "        text-align: right;\n",
       "    }\n",
       "</style>\n",
       "<table border=\"1\" class=\"dataframe\">\n",
       "  <thead>\n",
       "    <tr style=\"text-align: right;\">\n",
       "      <th></th>\n",
       "      <th>Q1A</th>\n",
       "      <th>Q2A</th>\n",
       "      <th>Q3A</th>\n",
       "      <th>Q4A</th>\n",
       "      <th>Q5A</th>\n",
       "      <th>Q6A</th>\n",
       "      <th>Q7A</th>\n",
       "      <th>Q8A</th>\n",
       "      <th>Q9A</th>\n",
       "      <th>Q10A</th>\n",
       "      <th>...</th>\n",
       "      <th>Q33A</th>\n",
       "      <th>Q34A</th>\n",
       "      <th>Q35A</th>\n",
       "      <th>Q36A</th>\n",
       "      <th>Q37A</th>\n",
       "      <th>Q38A</th>\n",
       "      <th>Q39A</th>\n",
       "      <th>Q40A</th>\n",
       "      <th>Q41A</th>\n",
       "      <th>Q42A</th>\n",
       "    </tr>\n",
       "  </thead>\n",
       "  <tbody>\n",
       "    <tr>\n",
       "      <th>0</th>\n",
       "      <td>4</td>\n",
       "      <td>4</td>\n",
       "      <td>2</td>\n",
       "      <td>4</td>\n",
       "      <td>4</td>\n",
       "      <td>4</td>\n",
       "      <td>4</td>\n",
       "      <td>4</td>\n",
       "      <td>2</td>\n",
       "      <td>1</td>\n",
       "      <td>...</td>\n",
       "      <td>2</td>\n",
       "      <td>3</td>\n",
       "      <td>4</td>\n",
       "      <td>4</td>\n",
       "      <td>1</td>\n",
       "      <td>2</td>\n",
       "      <td>4</td>\n",
       "      <td>3</td>\n",
       "      <td>4</td>\n",
       "      <td>4</td>\n",
       "    </tr>\n",
       "    <tr>\n",
       "      <th>1</th>\n",
       "      <td>4</td>\n",
       "      <td>1</td>\n",
       "      <td>2</td>\n",
       "      <td>3</td>\n",
       "      <td>4</td>\n",
       "      <td>4</td>\n",
       "      <td>3</td>\n",
       "      <td>4</td>\n",
       "      <td>3</td>\n",
       "      <td>2</td>\n",
       "      <td>...</td>\n",
       "      <td>3</td>\n",
       "      <td>2</td>\n",
       "      <td>2</td>\n",
       "      <td>3</td>\n",
       "      <td>4</td>\n",
       "      <td>2</td>\n",
       "      <td>2</td>\n",
       "      <td>1</td>\n",
       "      <td>2</td>\n",
       "      <td>2</td>\n",
       "    </tr>\n",
       "    <tr>\n",
       "      <th>2</th>\n",
       "      <td>3</td>\n",
       "      <td>1</td>\n",
       "      <td>4</td>\n",
       "      <td>1</td>\n",
       "      <td>4</td>\n",
       "      <td>3</td>\n",
       "      <td>1</td>\n",
       "      <td>3</td>\n",
       "      <td>2</td>\n",
       "      <td>4</td>\n",
       "      <td>...</td>\n",
       "      <td>1</td>\n",
       "      <td>4</td>\n",
       "      <td>3</td>\n",
       "      <td>4</td>\n",
       "      <td>4</td>\n",
       "      <td>4</td>\n",
       "      <td>2</td>\n",
       "      <td>2</td>\n",
       "      <td>1</td>\n",
       "      <td>4</td>\n",
       "    </tr>\n",
       "    <tr>\n",
       "      <th>3</th>\n",
       "      <td>2</td>\n",
       "      <td>3</td>\n",
       "      <td>2</td>\n",
       "      <td>1</td>\n",
       "      <td>3</td>\n",
       "      <td>3</td>\n",
       "      <td>4</td>\n",
       "      <td>2</td>\n",
       "      <td>3</td>\n",
       "      <td>3</td>\n",
       "      <td>...</td>\n",
       "      <td>2</td>\n",
       "      <td>4</td>\n",
       "      <td>1</td>\n",
       "      <td>1</td>\n",
       "      <td>2</td>\n",
       "      <td>1</td>\n",
       "      <td>3</td>\n",
       "      <td>4</td>\n",
       "      <td>4</td>\n",
       "      <td>2</td>\n",
       "    </tr>\n",
       "    <tr>\n",
       "      <th>4</th>\n",
       "      <td>2</td>\n",
       "      <td>2</td>\n",
       "      <td>3</td>\n",
       "      <td>4</td>\n",
       "      <td>4</td>\n",
       "      <td>2</td>\n",
       "      <td>4</td>\n",
       "      <td>4</td>\n",
       "      <td>4</td>\n",
       "      <td>3</td>\n",
       "      <td>...</td>\n",
       "      <td>4</td>\n",
       "      <td>4</td>\n",
       "      <td>3</td>\n",
       "      <td>4</td>\n",
       "      <td>3</td>\n",
       "      <td>3</td>\n",
       "      <td>3</td>\n",
       "      <td>4</td>\n",
       "      <td>4</td>\n",
       "      <td>3</td>\n",
       "    </tr>\n",
       "  </tbody>\n",
       "</table>\n",
       "<p>5 rows × 42 columns</p>\n",
       "</div>"
      ],
      "text/plain": [
       "   Q1A  Q2A  Q3A  Q4A  Q5A  Q6A  Q7A  Q8A  Q9A  Q10A  ...  Q33A  Q34A  Q35A  \\\n",
       "0    4    4    2    4    4    4    4    4    2     1  ...     2     3     4   \n",
       "1    4    1    2    3    4    4    3    4    3     2  ...     3     2     2   \n",
       "2    3    1    4    1    4    3    1    3    2     4  ...     1     4     3   \n",
       "3    2    3    2    1    3    3    4    2    3     3  ...     2     4     1   \n",
       "4    2    2    3    4    4    2    4    4    4     3  ...     4     4     3   \n",
       "\n",
       "   Q36A  Q37A  Q38A  Q39A  Q40A  Q41A  Q42A  \n",
       "0     4     1     2     4     3     4     4  \n",
       "1     3     4     2     2     1     2     2  \n",
       "2     4     4     4     2     2     1     4  \n",
       "3     1     2     1     3     4     4     2  \n",
       "4     4     3     3     3     4     4     3  \n",
       "\n",
       "[5 rows x 42 columns]"
      ]
     },
     "execution_count": 61,
     "metadata": {},
     "output_type": "execute_result"
    }
   ],
   "source": [
    "new_data=data_2.iloc[:,42:]\n",
    "data_3=data_2.filter(regex='Q\\d{1,2}A')\n",
    "data_3.head()"
   ]
  },
  {
   "cell_type": "code",
   "execution_count": 62,
   "metadata": {
    "execution": {
     "iopub.execute_input": "2023-10-01T11:21:44.304838Z",
     "iopub.status.busy": "2023-10-01T11:21:44.304244Z",
     "iopub.status.idle": "2023-10-01T11:21:44.323175Z",
     "shell.execute_reply": "2023-10-01T11:21:44.321920Z",
     "shell.execute_reply.started": "2023-10-01T11:21:44.304806Z"
    }
   },
   "outputs": [],
   "source": [
    "def sub(data_3):\n",
    "    return data_3.subtract(1,axis=1)\n",
    "data_3=sub(data_3) \n",
    "DASS_keys = {'Depression': [3, 5, 10, 13, 16, 17, 21, 24, 26, 31, 34, 37, 38, 42],\n",
    "             'Anxiety': [2, 4, 7, 9, 15, 19, 20, 23, 25, 28, 30, 36, 40, 41],\n",
    "             'Stress': [1, 6, 8, 11, 12, 14, 18, 22, 27, 29, 32, 33, 35, 39]}\n",
    "Dep = []\n",
    "for i in DASS_keys[\"Depression\"]:\n",
    "    Dep.append('Q'+str(i)+'A')\n",
    "Stress = []\n",
    "for i in DASS_keys[\"Stress\"]:\n",
    "    Stress.append('Q'+str(i)+'A')\n",
    "Anx = []\n",
    "for i in DASS_keys[\"Anxiety\"]:\n",
    "    Anx.append('Q'+str(i)+'A')\n",
    "depression= data_3.filter(Dep)\n",
    "stress = data_3.filter(Stress)\n",
    "anxiety = data_3.filter(Anx)"
   ]
  },
  {
   "cell_type": "code",
   "execution_count": 63,
   "metadata": {
    "execution": {
     "iopub.execute_input": "2023-10-01T11:21:57.594528Z",
     "iopub.status.busy": "2023-10-01T11:21:57.593632Z",
     "iopub.status.idle": "2023-10-01T11:21:57.626066Z",
     "shell.execute_reply": "2023-10-01T11:21:57.624929Z",
     "shell.execute_reply.started": "2023-10-01T11:21:57.594494Z"
    }
   },
   "outputs": [],
   "source": [
    "def scores(source):\n",
    "    col=list(source)\n",
    "    source['Total_Count']=source[col].sum(axis=1)\n",
    "    return source\n",
    "depression=scores(depression)\n",
    "stress=scores(stress)\n",
    "anxiety=scores(anxiety)"
   ]
  },
  {
   "cell_type": "code",
   "execution_count": 64,
   "metadata": {
    "execution": {
     "iopub.execute_input": "2023-10-01T11:22:40.433709Z",
     "iopub.status.busy": "2023-10-01T11:22:40.433307Z",
     "iopub.status.idle": "2023-10-01T11:22:40.464982Z",
     "shell.execute_reply": "2023-10-01T11:22:40.463825Z",
     "shell.execute_reply.started": "2023-10-01T11:22:40.433681Z"
    }
   },
   "outputs": [
    {
     "data": {
      "text/html": [
       "<div>\n",
       "<style scoped>\n",
       "    .dataframe tbody tr th:only-of-type {\n",
       "        vertical-align: middle;\n",
       "    }\n",
       "\n",
       "    .dataframe tbody tr th {\n",
       "        vertical-align: top;\n",
       "    }\n",
       "\n",
       "    .dataframe thead th {\n",
       "        text-align: right;\n",
       "    }\n",
       "</style>\n",
       "<table border=\"1\" class=\"dataframe\">\n",
       "  <thead>\n",
       "    <tr style=\"text-align: right;\">\n",
       "      <th></th>\n",
       "      <th>Q3A</th>\n",
       "      <th>Q5A</th>\n",
       "      <th>Q10A</th>\n",
       "      <th>Q13A</th>\n",
       "      <th>Q16A</th>\n",
       "      <th>Q17A</th>\n",
       "      <th>Q21A</th>\n",
       "      <th>Q24A</th>\n",
       "      <th>Q26A</th>\n",
       "      <th>Q31A</th>\n",
       "      <th>...</th>\n",
       "      <th>uniquenetworklocation</th>\n",
       "      <th>hand</th>\n",
       "      <th>religion</th>\n",
       "      <th>orientation</th>\n",
       "      <th>race</th>\n",
       "      <th>voted</th>\n",
       "      <th>married</th>\n",
       "      <th>familysize</th>\n",
       "      <th>major</th>\n",
       "      <th>Age_Groups</th>\n",
       "    </tr>\n",
       "  </thead>\n",
       "  <tbody>\n",
       "    <tr>\n",
       "      <th>0</th>\n",
       "      <td>1</td>\n",
       "      <td>3</td>\n",
       "      <td>0</td>\n",
       "      <td>3</td>\n",
       "      <td>3</td>\n",
       "      <td>2</td>\n",
       "      <td>0</td>\n",
       "      <td>3</td>\n",
       "      <td>3</td>\n",
       "      <td>3</td>\n",
       "      <td>...</td>\n",
       "      <td>1</td>\n",
       "      <td>1</td>\n",
       "      <td>12</td>\n",
       "      <td>1</td>\n",
       "      <td>10</td>\n",
       "      <td>2</td>\n",
       "      <td>1</td>\n",
       "      <td>2</td>\n",
       "      <td>No Degree</td>\n",
       "      <td>Primary Children</td>\n",
       "    </tr>\n",
       "    <tr>\n",
       "      <th>1</th>\n",
       "      <td>1</td>\n",
       "      <td>3</td>\n",
       "      <td>1</td>\n",
       "      <td>3</td>\n",
       "      <td>2</td>\n",
       "      <td>3</td>\n",
       "      <td>1</td>\n",
       "      <td>1</td>\n",
       "      <td>2</td>\n",
       "      <td>1</td>\n",
       "      <td>...</td>\n",
       "      <td>1</td>\n",
       "      <td>2</td>\n",
       "      <td>7</td>\n",
       "      <td>3</td>\n",
       "      <td>70</td>\n",
       "      <td>2</td>\n",
       "      <td>1</td>\n",
       "      <td>4</td>\n",
       "      <td>No Degree</td>\n",
       "      <td>Primary Children</td>\n",
       "    </tr>\n",
       "    <tr>\n",
       "      <th>2</th>\n",
       "      <td>3</td>\n",
       "      <td>3</td>\n",
       "      <td>3</td>\n",
       "      <td>3</td>\n",
       "      <td>3</td>\n",
       "      <td>3</td>\n",
       "      <td>3</td>\n",
       "      <td>3</td>\n",
       "      <td>0</td>\n",
       "      <td>3</td>\n",
       "      <td>...</td>\n",
       "      <td>1</td>\n",
       "      <td>1</td>\n",
       "      <td>4</td>\n",
       "      <td>3</td>\n",
       "      <td>60</td>\n",
       "      <td>1</td>\n",
       "      <td>1</td>\n",
       "      <td>3</td>\n",
       "      <td>No Degree</td>\n",
       "      <td>Secondary Children</td>\n",
       "    </tr>\n",
       "    <tr>\n",
       "      <th>3</th>\n",
       "      <td>1</td>\n",
       "      <td>2</td>\n",
       "      <td>2</td>\n",
       "      <td>0</td>\n",
       "      <td>1</td>\n",
       "      <td>2</td>\n",
       "      <td>0</td>\n",
       "      <td>0</td>\n",
       "      <td>1</td>\n",
       "      <td>2</td>\n",
       "      <td>...</td>\n",
       "      <td>1</td>\n",
       "      <td>2</td>\n",
       "      <td>4</td>\n",
       "      <td>5</td>\n",
       "      <td>70</td>\n",
       "      <td>2</td>\n",
       "      <td>1</td>\n",
       "      <td>5</td>\n",
       "      <td>biology</td>\n",
       "      <td>Primary Children</td>\n",
       "    </tr>\n",
       "    <tr>\n",
       "      <th>4</th>\n",
       "      <td>2</td>\n",
       "      <td>3</td>\n",
       "      <td>2</td>\n",
       "      <td>3</td>\n",
       "      <td>2</td>\n",
       "      <td>3</td>\n",
       "      <td>2</td>\n",
       "      <td>1</td>\n",
       "      <td>3</td>\n",
       "      <td>2</td>\n",
       "      <td>...</td>\n",
       "      <td>2</td>\n",
       "      <td>3</td>\n",
       "      <td>10</td>\n",
       "      <td>1</td>\n",
       "      <td>10</td>\n",
       "      <td>2</td>\n",
       "      <td>1</td>\n",
       "      <td>4</td>\n",
       "      <td>Psychology</td>\n",
       "      <td>Secondary Children</td>\n",
       "    </tr>\n",
       "  </tbody>\n",
       "</table>\n",
       "<p>5 rows × 42 columns</p>\n",
       "</div>"
      ],
      "text/plain": [
       "   Q3A  Q5A  Q10A  Q13A  Q16A  Q17A  Q21A  Q24A  Q26A  Q31A  ...  \\\n",
       "0    1    3     0     3     3     2     0     3     3     3  ...   \n",
       "1    1    3     1     3     2     3     1     1     2     1  ...   \n",
       "2    3    3     3     3     3     3     3     3     0     3  ...   \n",
       "3    1    2     2     0     1     2     0     0     1     2  ...   \n",
       "4    2    3     2     3     2     3     2     1     3     2  ...   \n",
       "\n",
       "   uniquenetworklocation  hand  religion  orientation  race voted  married  \\\n",
       "0                      1     1        12            1    10     2        1   \n",
       "1                      1     2         7            3    70     2        1   \n",
       "2                      1     1         4            3    60     1        1   \n",
       "3                      1     2         4            5    70     2        1   \n",
       "4                      2     3        10            1    10     2        1   \n",
       "\n",
       "   familysize       major          Age_Groups  \n",
       "0           2   No Degree    Primary Children  \n",
       "1           4   No Degree    Primary Children  \n",
       "2           3   No Degree  Secondary Children  \n",
       "3           5     biology    Primary Children  \n",
       "4           4  Psychology  Secondary Children  \n",
       "\n",
       "[5 rows x 42 columns]"
      ]
     },
     "execution_count": 64,
     "metadata": {},
     "output_type": "execute_result"
    }
   ],
   "source": [
    "Depression=pd.merge(depression,new_data,how='left',left_index=True,right_index=True)\n",
    "Depression.head()"
   ]
  },
  {
   "cell_type": "code",
   "execution_count": 65,
   "metadata": {
    "execution": {
     "iopub.execute_input": "2023-10-01T11:23:04.010590Z",
     "iopub.status.busy": "2023-10-01T11:23:04.010141Z",
     "iopub.status.idle": "2023-10-01T11:23:04.039512Z",
     "shell.execute_reply": "2023-10-01T11:23:04.038351Z",
     "shell.execute_reply.started": "2023-10-01T11:23:04.010558Z"
    }
   },
   "outputs": [
    {
     "data": {
      "text/html": [
       "<div>\n",
       "<style scoped>\n",
       "    .dataframe tbody tr th:only-of-type {\n",
       "        vertical-align: middle;\n",
       "    }\n",
       "\n",
       "    .dataframe tbody tr th {\n",
       "        vertical-align: top;\n",
       "    }\n",
       "\n",
       "    .dataframe thead th {\n",
       "        text-align: right;\n",
       "    }\n",
       "</style>\n",
       "<table border=\"1\" class=\"dataframe\">\n",
       "  <thead>\n",
       "    <tr style=\"text-align: right;\">\n",
       "      <th></th>\n",
       "      <th>Q1A</th>\n",
       "      <th>Q6A</th>\n",
       "      <th>Q8A</th>\n",
       "      <th>Q11A</th>\n",
       "      <th>Q12A</th>\n",
       "      <th>Q14A</th>\n",
       "      <th>Q18A</th>\n",
       "      <th>Q22A</th>\n",
       "      <th>Q27A</th>\n",
       "      <th>Q29A</th>\n",
       "      <th>...</th>\n",
       "      <th>uniquenetworklocation</th>\n",
       "      <th>hand</th>\n",
       "      <th>religion</th>\n",
       "      <th>orientation</th>\n",
       "      <th>race</th>\n",
       "      <th>voted</th>\n",
       "      <th>married</th>\n",
       "      <th>familysize</th>\n",
       "      <th>major</th>\n",
       "      <th>Age_Groups</th>\n",
       "    </tr>\n",
       "  </thead>\n",
       "  <tbody>\n",
       "    <tr>\n",
       "      <th>0</th>\n",
       "      <td>3</td>\n",
       "      <td>3</td>\n",
       "      <td>3</td>\n",
       "      <td>3</td>\n",
       "      <td>3</td>\n",
       "      <td>3</td>\n",
       "      <td>3</td>\n",
       "      <td>3</td>\n",
       "      <td>3</td>\n",
       "      <td>3</td>\n",
       "      <td>...</td>\n",
       "      <td>1</td>\n",
       "      <td>1</td>\n",
       "      <td>12</td>\n",
       "      <td>1</td>\n",
       "      <td>10</td>\n",
       "      <td>2</td>\n",
       "      <td>1</td>\n",
       "      <td>2</td>\n",
       "      <td>No Degree</td>\n",
       "      <td>Primary Children</td>\n",
       "    </tr>\n",
       "    <tr>\n",
       "      <th>1</th>\n",
       "      <td>3</td>\n",
       "      <td>3</td>\n",
       "      <td>3</td>\n",
       "      <td>1</td>\n",
       "      <td>1</td>\n",
       "      <td>3</td>\n",
       "      <td>1</td>\n",
       "      <td>2</td>\n",
       "      <td>2</td>\n",
       "      <td>2</td>\n",
       "      <td>...</td>\n",
       "      <td>1</td>\n",
       "      <td>2</td>\n",
       "      <td>7</td>\n",
       "      <td>3</td>\n",
       "      <td>70</td>\n",
       "      <td>2</td>\n",
       "      <td>1</td>\n",
       "      <td>4</td>\n",
       "      <td>No Degree</td>\n",
       "      <td>Primary Children</td>\n",
       "    </tr>\n",
       "    <tr>\n",
       "      <th>2</th>\n",
       "      <td>2</td>\n",
       "      <td>2</td>\n",
       "      <td>2</td>\n",
       "      <td>1</td>\n",
       "      <td>0</td>\n",
       "      <td>0</td>\n",
       "      <td>1</td>\n",
       "      <td>2</td>\n",
       "      <td>1</td>\n",
       "      <td>1</td>\n",
       "      <td>...</td>\n",
       "      <td>1</td>\n",
       "      <td>1</td>\n",
       "      <td>4</td>\n",
       "      <td>3</td>\n",
       "      <td>60</td>\n",
       "      <td>1</td>\n",
       "      <td>1</td>\n",
       "      <td>3</td>\n",
       "      <td>No Degree</td>\n",
       "      <td>Secondary Children</td>\n",
       "    </tr>\n",
       "    <tr>\n",
       "      <th>3</th>\n",
       "      <td>1</td>\n",
       "      <td>2</td>\n",
       "      <td>1</td>\n",
       "      <td>1</td>\n",
       "      <td>0</td>\n",
       "      <td>3</td>\n",
       "      <td>0</td>\n",
       "      <td>0</td>\n",
       "      <td>3</td>\n",
       "      <td>2</td>\n",
       "      <td>...</td>\n",
       "      <td>1</td>\n",
       "      <td>2</td>\n",
       "      <td>4</td>\n",
       "      <td>5</td>\n",
       "      <td>70</td>\n",
       "      <td>2</td>\n",
       "      <td>1</td>\n",
       "      <td>5</td>\n",
       "      <td>biology</td>\n",
       "      <td>Primary Children</td>\n",
       "    </tr>\n",
       "    <tr>\n",
       "      <th>4</th>\n",
       "      <td>1</td>\n",
       "      <td>1</td>\n",
       "      <td>3</td>\n",
       "      <td>1</td>\n",
       "      <td>3</td>\n",
       "      <td>3</td>\n",
       "      <td>3</td>\n",
       "      <td>2</td>\n",
       "      <td>1</td>\n",
       "      <td>1</td>\n",
       "      <td>...</td>\n",
       "      <td>2</td>\n",
       "      <td>3</td>\n",
       "      <td>10</td>\n",
       "      <td>1</td>\n",
       "      <td>10</td>\n",
       "      <td>2</td>\n",
       "      <td>1</td>\n",
       "      <td>4</td>\n",
       "      <td>Psychology</td>\n",
       "      <td>Secondary Children</td>\n",
       "    </tr>\n",
       "  </tbody>\n",
       "</table>\n",
       "<p>5 rows × 42 columns</p>\n",
       "</div>"
      ],
      "text/plain": [
       "   Q1A  Q6A  Q8A  Q11A  Q12A  Q14A  Q18A  Q22A  Q27A  Q29A  ...  \\\n",
       "0    3    3    3     3     3     3     3     3     3     3  ...   \n",
       "1    3    3    3     1     1     3     1     2     2     2  ...   \n",
       "2    2    2    2     1     0     0     1     2     1     1  ...   \n",
       "3    1    2    1     1     0     3     0     0     3     2  ...   \n",
       "4    1    1    3     1     3     3     3     2     1     1  ...   \n",
       "\n",
       "   uniquenetworklocation  hand  religion  orientation  race voted  married  \\\n",
       "0                      1     1        12            1    10     2        1   \n",
       "1                      1     2         7            3    70     2        1   \n",
       "2                      1     1         4            3    60     1        1   \n",
       "3                      1     2         4            5    70     2        1   \n",
       "4                      2     3        10            1    10     2        1   \n",
       "\n",
       "   familysize       major          Age_Groups  \n",
       "0           2   No Degree    Primary Children  \n",
       "1           4   No Degree    Primary Children  \n",
       "2           3   No Degree  Secondary Children  \n",
       "3           5     biology    Primary Children  \n",
       "4           4  Psychology  Secondary Children  \n",
       "\n",
       "[5 rows x 42 columns]"
      ]
     },
     "execution_count": 65,
     "metadata": {},
     "output_type": "execute_result"
    }
   ],
   "source": [
    "Stress=pd.merge(stress,new_data,how='inner',left_index=True,right_index=True)\n",
    "Stress.head()"
   ]
  },
  {
   "cell_type": "code",
   "execution_count": 66,
   "metadata": {
    "execution": {
     "iopub.execute_input": "2023-10-01T11:23:24.013881Z",
     "iopub.status.busy": "2023-10-01T11:23:24.013496Z",
     "iopub.status.idle": "2023-10-01T11:23:24.043604Z",
     "shell.execute_reply": "2023-10-01T11:23:24.042801Z",
     "shell.execute_reply.started": "2023-10-01T11:23:24.013853Z"
    }
   },
   "outputs": [
    {
     "data": {
      "text/html": [
       "<div>\n",
       "<style scoped>\n",
       "    .dataframe tbody tr th:only-of-type {\n",
       "        vertical-align: middle;\n",
       "    }\n",
       "\n",
       "    .dataframe tbody tr th {\n",
       "        vertical-align: top;\n",
       "    }\n",
       "\n",
       "    .dataframe thead th {\n",
       "        text-align: right;\n",
       "    }\n",
       "</style>\n",
       "<table border=\"1\" class=\"dataframe\">\n",
       "  <thead>\n",
       "    <tr style=\"text-align: right;\">\n",
       "      <th></th>\n",
       "      <th>Q2A</th>\n",
       "      <th>Q4A</th>\n",
       "      <th>Q7A</th>\n",
       "      <th>Q9A</th>\n",
       "      <th>Q15A</th>\n",
       "      <th>Q19A</th>\n",
       "      <th>Q20A</th>\n",
       "      <th>Q23A</th>\n",
       "      <th>Q25A</th>\n",
       "      <th>Q28A</th>\n",
       "      <th>...</th>\n",
       "      <th>uniquenetworklocation</th>\n",
       "      <th>hand</th>\n",
       "      <th>religion</th>\n",
       "      <th>orientation</th>\n",
       "      <th>race</th>\n",
       "      <th>voted</th>\n",
       "      <th>married</th>\n",
       "      <th>familysize</th>\n",
       "      <th>major</th>\n",
       "      <th>Age_Groups</th>\n",
       "    </tr>\n",
       "  </thead>\n",
       "  <tbody>\n",
       "    <tr>\n",
       "      <th>0</th>\n",
       "      <td>3</td>\n",
       "      <td>3</td>\n",
       "      <td>3</td>\n",
       "      <td>1</td>\n",
       "      <td>3</td>\n",
       "      <td>2</td>\n",
       "      <td>2</td>\n",
       "      <td>3</td>\n",
       "      <td>3</td>\n",
       "      <td>2</td>\n",
       "      <td>...</td>\n",
       "      <td>1</td>\n",
       "      <td>1</td>\n",
       "      <td>12</td>\n",
       "      <td>1</td>\n",
       "      <td>10</td>\n",
       "      <td>2</td>\n",
       "      <td>1</td>\n",
       "      <td>2</td>\n",
       "      <td>No Degree</td>\n",
       "      <td>Primary Children</td>\n",
       "    </tr>\n",
       "    <tr>\n",
       "      <th>1</th>\n",
       "      <td>0</td>\n",
       "      <td>2</td>\n",
       "      <td>2</td>\n",
       "      <td>2</td>\n",
       "      <td>2</td>\n",
       "      <td>0</td>\n",
       "      <td>0</td>\n",
       "      <td>0</td>\n",
       "      <td>1</td>\n",
       "      <td>3</td>\n",
       "      <td>...</td>\n",
       "      <td>1</td>\n",
       "      <td>2</td>\n",
       "      <td>7</td>\n",
       "      <td>3</td>\n",
       "      <td>70</td>\n",
       "      <td>2</td>\n",
       "      <td>1</td>\n",
       "      <td>4</td>\n",
       "      <td>No Degree</td>\n",
       "      <td>Primary Children</td>\n",
       "    </tr>\n",
       "    <tr>\n",
       "      <th>2</th>\n",
       "      <td>0</td>\n",
       "      <td>0</td>\n",
       "      <td>0</td>\n",
       "      <td>1</td>\n",
       "      <td>3</td>\n",
       "      <td>1</td>\n",
       "      <td>0</td>\n",
       "      <td>1</td>\n",
       "      <td>1</td>\n",
       "      <td>0</td>\n",
       "      <td>...</td>\n",
       "      <td>1</td>\n",
       "      <td>1</td>\n",
       "      <td>4</td>\n",
       "      <td>3</td>\n",
       "      <td>60</td>\n",
       "      <td>1</td>\n",
       "      <td>1</td>\n",
       "      <td>3</td>\n",
       "      <td>No Degree</td>\n",
       "      <td>Secondary Children</td>\n",
       "    </tr>\n",
       "    <tr>\n",
       "      <th>3</th>\n",
       "      <td>2</td>\n",
       "      <td>0</td>\n",
       "      <td>3</td>\n",
       "      <td>2</td>\n",
       "      <td>1</td>\n",
       "      <td>0</td>\n",
       "      <td>1</td>\n",
       "      <td>0</td>\n",
       "      <td>0</td>\n",
       "      <td>0</td>\n",
       "      <td>...</td>\n",
       "      <td>1</td>\n",
       "      <td>2</td>\n",
       "      <td>4</td>\n",
       "      <td>5</td>\n",
       "      <td>70</td>\n",
       "      <td>2</td>\n",
       "      <td>1</td>\n",
       "      <td>5</td>\n",
       "      <td>biology</td>\n",
       "      <td>Primary Children</td>\n",
       "    </tr>\n",
       "    <tr>\n",
       "      <th>4</th>\n",
       "      <td>1</td>\n",
       "      <td>3</td>\n",
       "      <td>3</td>\n",
       "      <td>3</td>\n",
       "      <td>3</td>\n",
       "      <td>3</td>\n",
       "      <td>3</td>\n",
       "      <td>3</td>\n",
       "      <td>3</td>\n",
       "      <td>3</td>\n",
       "      <td>...</td>\n",
       "      <td>2</td>\n",
       "      <td>3</td>\n",
       "      <td>10</td>\n",
       "      <td>1</td>\n",
       "      <td>10</td>\n",
       "      <td>2</td>\n",
       "      <td>1</td>\n",
       "      <td>4</td>\n",
       "      <td>Psychology</td>\n",
       "      <td>Secondary Children</td>\n",
       "    </tr>\n",
       "  </tbody>\n",
       "</table>\n",
       "<p>5 rows × 42 columns</p>\n",
       "</div>"
      ],
      "text/plain": [
       "   Q2A  Q4A  Q7A  Q9A  Q15A  Q19A  Q20A  Q23A  Q25A  Q28A  ...  \\\n",
       "0    3    3    3    1     3     2     2     3     3     2  ...   \n",
       "1    0    2    2    2     2     0     0     0     1     3  ...   \n",
       "2    0    0    0    1     3     1     0     1     1     0  ...   \n",
       "3    2    0    3    2     1     0     1     0     0     0  ...   \n",
       "4    1    3    3    3     3     3     3     3     3     3  ...   \n",
       "\n",
       "   uniquenetworklocation  hand  religion  orientation  race voted  married  \\\n",
       "0                      1     1        12            1    10     2        1   \n",
       "1                      1     2         7            3    70     2        1   \n",
       "2                      1     1         4            3    60     1        1   \n",
       "3                      1     2         4            5    70     2        1   \n",
       "4                      2     3        10            1    10     2        1   \n",
       "\n",
       "   familysize       major          Age_Groups  \n",
       "0           2   No Degree    Primary Children  \n",
       "1           4   No Degree    Primary Children  \n",
       "2           3   No Degree  Secondary Children  \n",
       "3           5     biology    Primary Children  \n",
       "4           4  Psychology  Secondary Children  \n",
       "\n",
       "[5 rows x 42 columns]"
      ]
     },
     "execution_count": 66,
     "metadata": {},
     "output_type": "execute_result"
    }
   ],
   "source": [
    "Anxiety=pd.merge(anxiety,new_data,how='inner',left_index=True,right_index=True)\n",
    "Anxiety.head()"
   ]
  },
  {
   "cell_type": "code",
   "execution_count": 67,
   "metadata": {
    "execution": {
     "iopub.execute_input": "2023-10-01T11:24:07.010000Z",
     "iopub.status.busy": "2023-10-01T11:24:07.009578Z",
     "iopub.status.idle": "2023-10-01T11:24:07.046716Z",
     "shell.execute_reply": "2023-10-01T11:24:07.045087Z",
     "shell.execute_reply.started": "2023-10-01T11:24:07.009971Z"
    }
   },
   "outputs": [
    {
     "data": {
      "text/html": [
       "<div>\n",
       "<style scoped>\n",
       "    .dataframe tbody tr th:only-of-type {\n",
       "        vertical-align: middle;\n",
       "    }\n",
       "\n",
       "    .dataframe tbody tr th {\n",
       "        vertical-align: top;\n",
       "    }\n",
       "\n",
       "    .dataframe thead th {\n",
       "        text-align: right;\n",
       "    }\n",
       "</style>\n",
       "<table border=\"1\" class=\"dataframe\">\n",
       "  <thead>\n",
       "    <tr style=\"text-align: right;\">\n",
       "      <th></th>\n",
       "      <th>Q3A</th>\n",
       "      <th>Q5A</th>\n",
       "      <th>Q10A</th>\n",
       "      <th>Q13A</th>\n",
       "      <th>Q16A</th>\n",
       "      <th>Q17A</th>\n",
       "      <th>Q21A</th>\n",
       "      <th>Q24A</th>\n",
       "      <th>Q26A</th>\n",
       "      <th>Q31A</th>\n",
       "      <th>...</th>\n",
       "      <th>hand</th>\n",
       "      <th>religion</th>\n",
       "      <th>orientation</th>\n",
       "      <th>race</th>\n",
       "      <th>voted</th>\n",
       "      <th>married</th>\n",
       "      <th>familysize</th>\n",
       "      <th>major</th>\n",
       "      <th>Age_Groups</th>\n",
       "      <th>Condition</th>\n",
       "    </tr>\n",
       "  </thead>\n",
       "  <tbody>\n",
       "    <tr>\n",
       "      <th>0</th>\n",
       "      <td>1</td>\n",
       "      <td>3</td>\n",
       "      <td>0</td>\n",
       "      <td>3</td>\n",
       "      <td>3</td>\n",
       "      <td>2</td>\n",
       "      <td>0</td>\n",
       "      <td>3</td>\n",
       "      <td>3</td>\n",
       "      <td>3</td>\n",
       "      <td>...</td>\n",
       "      <td>1</td>\n",
       "      <td>12</td>\n",
       "      <td>1</td>\n",
       "      <td>10</td>\n",
       "      <td>2</td>\n",
       "      <td>1</td>\n",
       "      <td>2</td>\n",
       "      <td>No Degree</td>\n",
       "      <td>Primary Children</td>\n",
       "      <td>Severe</td>\n",
       "    </tr>\n",
       "    <tr>\n",
       "      <th>1</th>\n",
       "      <td>1</td>\n",
       "      <td>3</td>\n",
       "      <td>1</td>\n",
       "      <td>3</td>\n",
       "      <td>2</td>\n",
       "      <td>3</td>\n",
       "      <td>1</td>\n",
       "      <td>1</td>\n",
       "      <td>2</td>\n",
       "      <td>1</td>\n",
       "      <td>...</td>\n",
       "      <td>2</td>\n",
       "      <td>7</td>\n",
       "      <td>3</td>\n",
       "      <td>70</td>\n",
       "      <td>2</td>\n",
       "      <td>1</td>\n",
       "      <td>4</td>\n",
       "      <td>No Degree</td>\n",
       "      <td>Primary Children</td>\n",
       "      <td>Severe</td>\n",
       "    </tr>\n",
       "    <tr>\n",
       "      <th>2</th>\n",
       "      <td>3</td>\n",
       "      <td>3</td>\n",
       "      <td>3</td>\n",
       "      <td>3</td>\n",
       "      <td>3</td>\n",
       "      <td>3</td>\n",
       "      <td>3</td>\n",
       "      <td>3</td>\n",
       "      <td>0</td>\n",
       "      <td>3</td>\n",
       "      <td>...</td>\n",
       "      <td>1</td>\n",
       "      <td>4</td>\n",
       "      <td>3</td>\n",
       "      <td>60</td>\n",
       "      <td>1</td>\n",
       "      <td>1</td>\n",
       "      <td>3</td>\n",
       "      <td>No Degree</td>\n",
       "      <td>Secondary Children</td>\n",
       "      <td>Extremely Severe</td>\n",
       "    </tr>\n",
       "    <tr>\n",
       "      <th>3</th>\n",
       "      <td>1</td>\n",
       "      <td>2</td>\n",
       "      <td>2</td>\n",
       "      <td>0</td>\n",
       "      <td>1</td>\n",
       "      <td>2</td>\n",
       "      <td>0</td>\n",
       "      <td>0</td>\n",
       "      <td>1</td>\n",
       "      <td>2</td>\n",
       "      <td>...</td>\n",
       "      <td>2</td>\n",
       "      <td>4</td>\n",
       "      <td>5</td>\n",
       "      <td>70</td>\n",
       "      <td>2</td>\n",
       "      <td>1</td>\n",
       "      <td>5</td>\n",
       "      <td>biology</td>\n",
       "      <td>Primary Children</td>\n",
       "      <td>Moderate</td>\n",
       "    </tr>\n",
       "    <tr>\n",
       "      <th>4</th>\n",
       "      <td>2</td>\n",
       "      <td>3</td>\n",
       "      <td>2</td>\n",
       "      <td>3</td>\n",
       "      <td>2</td>\n",
       "      <td>3</td>\n",
       "      <td>2</td>\n",
       "      <td>1</td>\n",
       "      <td>3</td>\n",
       "      <td>2</td>\n",
       "      <td>...</td>\n",
       "      <td>3</td>\n",
       "      <td>10</td>\n",
       "      <td>1</td>\n",
       "      <td>10</td>\n",
       "      <td>2</td>\n",
       "      <td>1</td>\n",
       "      <td>4</td>\n",
       "      <td>Psychology</td>\n",
       "      <td>Secondary Children</td>\n",
       "      <td>Extremely Severe</td>\n",
       "    </tr>\n",
       "  </tbody>\n",
       "</table>\n",
       "<p>5 rows × 43 columns</p>\n",
       "</div>"
      ],
      "text/plain": [
       "   Q3A  Q5A  Q10A  Q13A  Q16A  Q17A  Q21A  Q24A  Q26A  Q31A  ...  hand  \\\n",
       "0    1    3     0     3     3     2     0     3     3     3  ...     1   \n",
       "1    1    3     1     3     2     3     1     1     2     1  ...     2   \n",
       "2    3    3     3     3     3     3     3     3     0     3  ...     1   \n",
       "3    1    2     2     0     1     2     0     0     1     2  ...     2   \n",
       "4    2    3     2     3     2     3     2     1     3     2  ...     3   \n",
       "\n",
       "   religion  orientation  race  voted married  familysize       major  \\\n",
       "0        12            1    10      2       1           2   No Degree   \n",
       "1         7            3    70      2       1           4   No Degree   \n",
       "2         4            3    60      1       1           3   No Degree   \n",
       "3         4            5    70      2       1           5     biology   \n",
       "4        10            1    10      2       1           4  Psychology   \n",
       "\n",
       "           Age_Groups         Condition  \n",
       "0    Primary Children            Severe  \n",
       "1    Primary Children            Severe  \n",
       "2  Secondary Children  Extremely Severe  \n",
       "3    Primary Children          Moderate  \n",
       "4  Secondary Children  Extremely Severe  \n",
       "\n",
       "[5 rows x 43 columns]"
      ]
     },
     "execution_count": 67,
     "metadata": {},
     "output_type": "execute_result"
    }
   ],
   "source": [
    "def condition(x):\n",
    "    if x<=9:\n",
    "        return 'Normal'\n",
    "    if  10<=x<=13:\n",
    "        return 'Mild'\n",
    "    if 14<=x<=20:\n",
    "        return 'Moderate'\n",
    "    if 21<=x<=27:\n",
    "        return 'Severe'\n",
    "    if x>28:\n",
    "        return 'Extremely Severe'\n",
    "\n",
    "Depression['Condition']=Depression['Total_Count'].apply(condition)\n",
    "Depression.head()"
   ]
  },
  {
   "cell_type": "code",
   "execution_count": 68,
   "metadata": {
    "execution": {
     "iopub.execute_input": "2023-10-01T11:24:43.763421Z",
     "iopub.status.busy": "2023-10-01T11:24:43.762284Z",
     "iopub.status.idle": "2023-10-01T11:24:43.797989Z",
     "shell.execute_reply": "2023-10-01T11:24:43.797171Z",
     "shell.execute_reply.started": "2023-10-01T11:24:43.763383Z"
    }
   },
   "outputs": [
    {
     "data": {
      "text/html": [
       "<div>\n",
       "<style scoped>\n",
       "    .dataframe tbody tr th:only-of-type {\n",
       "        vertical-align: middle;\n",
       "    }\n",
       "\n",
       "    .dataframe tbody tr th {\n",
       "        vertical-align: top;\n",
       "    }\n",
       "\n",
       "    .dataframe thead th {\n",
       "        text-align: right;\n",
       "    }\n",
       "</style>\n",
       "<table border=\"1\" class=\"dataframe\">\n",
       "  <thead>\n",
       "    <tr style=\"text-align: right;\">\n",
       "      <th></th>\n",
       "      <th>Q1A</th>\n",
       "      <th>Q6A</th>\n",
       "      <th>Q8A</th>\n",
       "      <th>Q11A</th>\n",
       "      <th>Q12A</th>\n",
       "      <th>Q14A</th>\n",
       "      <th>Q18A</th>\n",
       "      <th>Q22A</th>\n",
       "      <th>Q27A</th>\n",
       "      <th>Q29A</th>\n",
       "      <th>...</th>\n",
       "      <th>hand</th>\n",
       "      <th>religion</th>\n",
       "      <th>orientation</th>\n",
       "      <th>race</th>\n",
       "      <th>voted</th>\n",
       "      <th>married</th>\n",
       "      <th>familysize</th>\n",
       "      <th>major</th>\n",
       "      <th>Age_Groups</th>\n",
       "      <th>Condition</th>\n",
       "    </tr>\n",
       "  </thead>\n",
       "  <tbody>\n",
       "    <tr>\n",
       "      <th>0</th>\n",
       "      <td>3</td>\n",
       "      <td>3</td>\n",
       "      <td>3</td>\n",
       "      <td>3</td>\n",
       "      <td>3</td>\n",
       "      <td>3</td>\n",
       "      <td>3</td>\n",
       "      <td>3</td>\n",
       "      <td>3</td>\n",
       "      <td>3</td>\n",
       "      <td>...</td>\n",
       "      <td>1</td>\n",
       "      <td>12</td>\n",
       "      <td>1</td>\n",
       "      <td>10</td>\n",
       "      <td>2</td>\n",
       "      <td>1</td>\n",
       "      <td>2</td>\n",
       "      <td>No Degree</td>\n",
       "      <td>Primary Children</td>\n",
       "      <td>Extremely Severe</td>\n",
       "    </tr>\n",
       "    <tr>\n",
       "      <th>1</th>\n",
       "      <td>3</td>\n",
       "      <td>3</td>\n",
       "      <td>3</td>\n",
       "      <td>1</td>\n",
       "      <td>1</td>\n",
       "      <td>3</td>\n",
       "      <td>1</td>\n",
       "      <td>2</td>\n",
       "      <td>2</td>\n",
       "      <td>2</td>\n",
       "      <td>...</td>\n",
       "      <td>2</td>\n",
       "      <td>7</td>\n",
       "      <td>3</td>\n",
       "      <td>70</td>\n",
       "      <td>2</td>\n",
       "      <td>1</td>\n",
       "      <td>4</td>\n",
       "      <td>No Degree</td>\n",
       "      <td>Primary Children</td>\n",
       "      <td>Severe</td>\n",
       "    </tr>\n",
       "    <tr>\n",
       "      <th>2</th>\n",
       "      <td>2</td>\n",
       "      <td>2</td>\n",
       "      <td>2</td>\n",
       "      <td>1</td>\n",
       "      <td>0</td>\n",
       "      <td>0</td>\n",
       "      <td>1</td>\n",
       "      <td>2</td>\n",
       "      <td>1</td>\n",
       "      <td>1</td>\n",
       "      <td>...</td>\n",
       "      <td>1</td>\n",
       "      <td>4</td>\n",
       "      <td>3</td>\n",
       "      <td>60</td>\n",
       "      <td>1</td>\n",
       "      <td>1</td>\n",
       "      <td>3</td>\n",
       "      <td>No Degree</td>\n",
       "      <td>Secondary Children</td>\n",
       "      <td>Mild</td>\n",
       "    </tr>\n",
       "    <tr>\n",
       "      <th>3</th>\n",
       "      <td>1</td>\n",
       "      <td>2</td>\n",
       "      <td>1</td>\n",
       "      <td>1</td>\n",
       "      <td>0</td>\n",
       "      <td>3</td>\n",
       "      <td>0</td>\n",
       "      <td>0</td>\n",
       "      <td>3</td>\n",
       "      <td>2</td>\n",
       "      <td>...</td>\n",
       "      <td>2</td>\n",
       "      <td>4</td>\n",
       "      <td>5</td>\n",
       "      <td>70</td>\n",
       "      <td>2</td>\n",
       "      <td>1</td>\n",
       "      <td>5</td>\n",
       "      <td>biology</td>\n",
       "      <td>Primary Children</td>\n",
       "      <td>Mild</td>\n",
       "    </tr>\n",
       "    <tr>\n",
       "      <th>4</th>\n",
       "      <td>1</td>\n",
       "      <td>1</td>\n",
       "      <td>3</td>\n",
       "      <td>1</td>\n",
       "      <td>3</td>\n",
       "      <td>3</td>\n",
       "      <td>3</td>\n",
       "      <td>2</td>\n",
       "      <td>1</td>\n",
       "      <td>1</td>\n",
       "      <td>...</td>\n",
       "      <td>3</td>\n",
       "      <td>10</td>\n",
       "      <td>1</td>\n",
       "      <td>10</td>\n",
       "      <td>2</td>\n",
       "      <td>1</td>\n",
       "      <td>4</td>\n",
       "      <td>Psychology</td>\n",
       "      <td>Secondary Children</td>\n",
       "      <td>Severe</td>\n",
       "    </tr>\n",
       "  </tbody>\n",
       "</table>\n",
       "<p>5 rows × 43 columns</p>\n",
       "</div>"
      ],
      "text/plain": [
       "   Q1A  Q6A  Q8A  Q11A  Q12A  Q14A  Q18A  Q22A  Q27A  Q29A  ...  hand  \\\n",
       "0    3    3    3     3     3     3     3     3     3     3  ...     1   \n",
       "1    3    3    3     1     1     3     1     2     2     2  ...     2   \n",
       "2    2    2    2     1     0     0     1     2     1     1  ...     1   \n",
       "3    1    2    1     1     0     3     0     0     3     2  ...     2   \n",
       "4    1    1    3     1     3     3     3     2     1     1  ...     3   \n",
       "\n",
       "   religion  orientation  race  voted married  familysize       major  \\\n",
       "0        12            1    10      2       1           2   No Degree   \n",
       "1         7            3    70      2       1           4   No Degree   \n",
       "2         4            3    60      1       1           3   No Degree   \n",
       "3         4            5    70      2       1           5     biology   \n",
       "4        10            1    10      2       1           4  Psychology   \n",
       "\n",
       "           Age_Groups         Condition  \n",
       "0    Primary Children  Extremely Severe  \n",
       "1    Primary Children            Severe  \n",
       "2  Secondary Children              Mild  \n",
       "3    Primary Children              Mild  \n",
       "4  Secondary Children            Severe  \n",
       "\n",
       "[5 rows x 43 columns]"
      ]
     },
     "execution_count": 68,
     "metadata": {},
     "output_type": "execute_result"
    }
   ],
   "source": [
    "def condition(x):\n",
    "    if x<=14:\n",
    "        return 'Normal'\n",
    "    if  15<=x<=18:\n",
    "        return 'Mild'\n",
    "    if 19<=x<=25:\n",
    "        return 'Moderate'\n",
    "    if 26<=x<=33:\n",
    "        return 'Severe'\n",
    "    if x>=34:\n",
    "        return 'Extremely Severe'\n",
    "\n",
    "Stress['Condition']=Stress['Total_Count'].apply(condition)\n",
    "\n",
    "Stress.head()"
   ]
  },
  {
   "cell_type": "code",
   "execution_count": 69,
   "metadata": {
    "execution": {
     "iopub.execute_input": "2023-10-01T11:25:04.652279Z",
     "iopub.status.busy": "2023-10-01T11:25:04.651619Z",
     "iopub.status.idle": "2023-10-01T11:25:04.688567Z",
     "shell.execute_reply": "2023-10-01T11:25:04.687281Z",
     "shell.execute_reply.started": "2023-10-01T11:25:04.652246Z"
    }
   },
   "outputs": [
    {
     "data": {
      "text/html": [
       "<div>\n",
       "<style scoped>\n",
       "    .dataframe tbody tr th:only-of-type {\n",
       "        vertical-align: middle;\n",
       "    }\n",
       "\n",
       "    .dataframe tbody tr th {\n",
       "        vertical-align: top;\n",
       "    }\n",
       "\n",
       "    .dataframe thead th {\n",
       "        text-align: right;\n",
       "    }\n",
       "</style>\n",
       "<table border=\"1\" class=\"dataframe\">\n",
       "  <thead>\n",
       "    <tr style=\"text-align: right;\">\n",
       "      <th></th>\n",
       "      <th>Q2A</th>\n",
       "      <th>Q4A</th>\n",
       "      <th>Q7A</th>\n",
       "      <th>Q9A</th>\n",
       "      <th>Q15A</th>\n",
       "      <th>Q19A</th>\n",
       "      <th>Q20A</th>\n",
       "      <th>Q23A</th>\n",
       "      <th>Q25A</th>\n",
       "      <th>Q28A</th>\n",
       "      <th>...</th>\n",
       "      <th>hand</th>\n",
       "      <th>religion</th>\n",
       "      <th>orientation</th>\n",
       "      <th>race</th>\n",
       "      <th>voted</th>\n",
       "      <th>married</th>\n",
       "      <th>familysize</th>\n",
       "      <th>major</th>\n",
       "      <th>Age_Groups</th>\n",
       "      <th>Condition</th>\n",
       "    </tr>\n",
       "  </thead>\n",
       "  <tbody>\n",
       "    <tr>\n",
       "      <th>0</th>\n",
       "      <td>3</td>\n",
       "      <td>3</td>\n",
       "      <td>3</td>\n",
       "      <td>1</td>\n",
       "      <td>3</td>\n",
       "      <td>2</td>\n",
       "      <td>2</td>\n",
       "      <td>3</td>\n",
       "      <td>3</td>\n",
       "      <td>2</td>\n",
       "      <td>...</td>\n",
       "      <td>1</td>\n",
       "      <td>12</td>\n",
       "      <td>1</td>\n",
       "      <td>10</td>\n",
       "      <td>2</td>\n",
       "      <td>1</td>\n",
       "      <td>2</td>\n",
       "      <td>No Degree</td>\n",
       "      <td>Primary Children</td>\n",
       "      <td>Extremely Severe</td>\n",
       "    </tr>\n",
       "    <tr>\n",
       "      <th>1</th>\n",
       "      <td>0</td>\n",
       "      <td>2</td>\n",
       "      <td>2</td>\n",
       "      <td>2</td>\n",
       "      <td>2</td>\n",
       "      <td>0</td>\n",
       "      <td>0</td>\n",
       "      <td>0</td>\n",
       "      <td>1</td>\n",
       "      <td>3</td>\n",
       "      <td>...</td>\n",
       "      <td>2</td>\n",
       "      <td>7</td>\n",
       "      <td>3</td>\n",
       "      <td>70</td>\n",
       "      <td>2</td>\n",
       "      <td>1</td>\n",
       "      <td>4</td>\n",
       "      <td>No Degree</td>\n",
       "      <td>Primary Children</td>\n",
       "      <td>Severe</td>\n",
       "    </tr>\n",
       "    <tr>\n",
       "      <th>2</th>\n",
       "      <td>0</td>\n",
       "      <td>0</td>\n",
       "      <td>0</td>\n",
       "      <td>1</td>\n",
       "      <td>3</td>\n",
       "      <td>1</td>\n",
       "      <td>0</td>\n",
       "      <td>1</td>\n",
       "      <td>1</td>\n",
       "      <td>0</td>\n",
       "      <td>...</td>\n",
       "      <td>1</td>\n",
       "      <td>4</td>\n",
       "      <td>3</td>\n",
       "      <td>60</td>\n",
       "      <td>1</td>\n",
       "      <td>1</td>\n",
       "      <td>3</td>\n",
       "      <td>No Degree</td>\n",
       "      <td>Secondary Children</td>\n",
       "      <td>Moderate</td>\n",
       "    </tr>\n",
       "    <tr>\n",
       "      <th>3</th>\n",
       "      <td>2</td>\n",
       "      <td>0</td>\n",
       "      <td>3</td>\n",
       "      <td>2</td>\n",
       "      <td>1</td>\n",
       "      <td>0</td>\n",
       "      <td>1</td>\n",
       "      <td>0</td>\n",
       "      <td>0</td>\n",
       "      <td>0</td>\n",
       "      <td>...</td>\n",
       "      <td>2</td>\n",
       "      <td>4</td>\n",
       "      <td>5</td>\n",
       "      <td>70</td>\n",
       "      <td>2</td>\n",
       "      <td>1</td>\n",
       "      <td>5</td>\n",
       "      <td>biology</td>\n",
       "      <td>Primary Children</td>\n",
       "      <td>Severe</td>\n",
       "    </tr>\n",
       "    <tr>\n",
       "      <th>4</th>\n",
       "      <td>1</td>\n",
       "      <td>3</td>\n",
       "      <td>3</td>\n",
       "      <td>3</td>\n",
       "      <td>3</td>\n",
       "      <td>3</td>\n",
       "      <td>3</td>\n",
       "      <td>3</td>\n",
       "      <td>3</td>\n",
       "      <td>3</td>\n",
       "      <td>...</td>\n",
       "      <td>3</td>\n",
       "      <td>10</td>\n",
       "      <td>1</td>\n",
       "      <td>10</td>\n",
       "      <td>2</td>\n",
       "      <td>1</td>\n",
       "      <td>4</td>\n",
       "      <td>Psychology</td>\n",
       "      <td>Secondary Children</td>\n",
       "      <td>Extremely Severe</td>\n",
       "    </tr>\n",
       "  </tbody>\n",
       "</table>\n",
       "<p>5 rows × 43 columns</p>\n",
       "</div>"
      ],
      "text/plain": [
       "   Q2A  Q4A  Q7A  Q9A  Q15A  Q19A  Q20A  Q23A  Q25A  Q28A  ...  hand  \\\n",
       "0    3    3    3    1     3     2     2     3     3     2  ...     1   \n",
       "1    0    2    2    2     2     0     0     0     1     3  ...     2   \n",
       "2    0    0    0    1     3     1     0     1     1     0  ...     1   \n",
       "3    2    0    3    2     1     0     1     0     0     0  ...     2   \n",
       "4    1    3    3    3     3     3     3     3     3     3  ...     3   \n",
       "\n",
       "   religion  orientation  race  voted married  familysize       major  \\\n",
       "0        12            1    10      2       1           2   No Degree   \n",
       "1         7            3    70      2       1           4   No Degree   \n",
       "2         4            3    60      1       1           3   No Degree   \n",
       "3         4            5    70      2       1           5     biology   \n",
       "4        10            1    10      2       1           4  Psychology   \n",
       "\n",
       "           Age_Groups         Condition  \n",
       "0    Primary Children  Extremely Severe  \n",
       "1    Primary Children            Severe  \n",
       "2  Secondary Children          Moderate  \n",
       "3    Primary Children            Severe  \n",
       "4  Secondary Children  Extremely Severe  \n",
       "\n",
       "[5 rows x 43 columns]"
      ]
     },
     "execution_count": 69,
     "metadata": {},
     "output_type": "execute_result"
    }
   ],
   "source": [
    "def condition(x):\n",
    "    if x<=7:\n",
    "        return 'Normal'\n",
    "    if  8<=x<=9:\n",
    "        return 'Mild'\n",
    "    if 10<=x<=14:\n",
    "        return 'Moderate'\n",
    "    if 15<=x<=19:\n",
    "        return 'Severe'\n",
    "    if x>19:\n",
    "        return 'Extremely Severe'\n",
    "\n",
    "Anxiety['Condition']=Anxiety['Total_Count'].apply(condition)\n",
    "Anxiety.head()"
   ]
  },
  {
   "cell_type": "code",
   "execution_count": 70,
   "metadata": {
    "execution": {
     "iopub.execute_input": "2023-10-01T11:25:51.873366Z",
     "iopub.status.busy": "2023-10-01T11:25:51.872962Z",
     "iopub.status.idle": "2023-10-01T11:25:51.922221Z",
     "shell.execute_reply": "2023-10-01T11:25:51.920797Z",
     "shell.execute_reply.started": "2023-10-01T11:25:51.873335Z"
    }
   },
   "outputs": [],
   "source": [
    "def change_var(x):\n",
    "    if x=='Primary Children':\n",
    "        return 0\n",
    "    elif x=='Secondary Children':\n",
    "        return 1\n",
    "    elif x=='Adults':\n",
    "        return 2\n",
    "    elif x=='Elder Adults':\n",
    "        return 3\n",
    "    elif x=='Older People':\n",
    "        return 4\n",
    "    \n",
    "\n",
    "    \n",
    "Depression['Age_Groups']=Depression['Age_Groups'].apply(change_var)\n",
    "Stress['Age_Groups']=Stress['Age_Groups'].apply(change_var)\n",
    "Anxiety['Age_Groups']=Anxiety['Age_Groups'].apply(change_var)"
   ]
  },
  {
   "cell_type": "code",
   "execution_count": 71,
   "metadata": {
    "execution": {
     "iopub.execute_input": "2023-10-01T11:26:02.988174Z",
     "iopub.status.busy": "2023-10-01T11:26:02.987751Z",
     "iopub.status.idle": "2023-10-01T11:26:03.040906Z",
     "shell.execute_reply": "2023-10-01T11:26:03.039617Z",
     "shell.execute_reply.started": "2023-10-01T11:26:02.988146Z"
    }
   },
   "outputs": [],
   "source": [
    "Depression=Depression.dropna()\n",
    "Stress=Stress.dropna()\n",
    "Anxiety=Anxiety.dropna()"
   ]
  },
  {
   "cell_type": "code",
   "execution_count": 72,
   "metadata": {
    "execution": {
     "iopub.execute_input": "2023-10-01T11:26:13.916902Z",
     "iopub.status.busy": "2023-10-01T11:26:13.916143Z",
     "iopub.status.idle": "2023-10-01T11:26:13.949061Z",
     "shell.execute_reply": "2023-10-01T11:26:13.947920Z",
     "shell.execute_reply.started": "2023-10-01T11:26:13.916836Z"
    }
   },
   "outputs": [],
   "source": [
    "Depression=Depression.drop(columns=['Total_Count','country','age'])\n",
    "Stress=Stress.drop(columns=['Total_Count','country','age'])\n",
    "Anxiety=Anxiety.drop(columns=['Total_Count','country','age'])"
   ]
  },
  {
   "cell_type": "code",
   "execution_count": 73,
   "metadata": {
    "execution": {
     "iopub.execute_input": "2023-10-01T11:26:20.670046Z",
     "iopub.status.busy": "2023-10-01T11:26:20.669666Z",
     "iopub.status.idle": "2023-10-01T11:26:20.733375Z",
     "shell.execute_reply": "2023-10-01T11:26:20.732449Z",
     "shell.execute_reply.started": "2023-10-01T11:26:20.670016Z"
    }
   },
   "outputs": [],
   "source": [
    "scaler=MinMaxScaler()\n",
    "X=Depression[['Q3A', 'Q5A', 'Q10A', 'Q13A', 'Q16A', 'Q17A', 'Q21A', 'Q24A', 'Q26A',\n",
    "       'Q31A', 'Q34A', 'Q37A', 'Q38A', 'Q42A',\n",
    "       'Extraverted-enthusiastic', 'Critical-quarrelsome',\n",
    "       'Dependable-self_disciplined', 'Anxious-easily upset',\n",
    "        'Open to new experiences-complex', 'Reserved-quiet', 'Sympathetic-warm',\n",
    "        'Disorganized-careless', 'Calm-emotionally_stable',\n",
    "        'Conventional-uncreative', 'education', 'urban', 'gender', 'engnat',\n",
    "        'screensize', 'uniquenetworklocation', 'hand', 'religion',\n",
    "        'orientation', 'race', 'voted', 'married', 'familysize',\n",
    "        'Age_Groups']]\n",
    "y=Depression[['Condition']]\n",
    "X_train,X_test,y_train,y_test=train_test_split(X,y,test_size=0.10,random_state=0)\n",
    "X_train_scaled = scaler.fit_transform(X_train)\n",
    "X_test_scaled = scaler.transform(X_test)"
   ]
  },
  {
   "cell_type": "code",
   "execution_count": 74,
   "metadata": {
    "execution": {
     "iopub.execute_input": "2023-10-01T11:26:31.264012Z",
     "iopub.status.busy": "2023-10-01T11:26:31.263413Z",
     "iopub.status.idle": "2023-10-01T11:26:31.269753Z",
     "shell.execute_reply": "2023-10-01T11:26:31.268421Z",
     "shell.execute_reply.started": "2023-10-01T11:26:31.263981Z"
    }
   },
   "outputs": [
    {
     "name": "stdout",
     "output_type": "stream",
     "text": [
      "Training Set: (30645, 38) (30645, 1)\n",
      "Test Set: (3406, 38) (3406, 1)\n"
     ]
    }
   ],
   "source": [
    "print('Training Set:',X_train.shape,y_train.shape)\n",
    "print('Test Set:',X_test.shape,y_test.shape)"
   ]
  },
  {
   "cell_type": "code",
   "execution_count": 75,
   "metadata": {
    "execution": {
     "iopub.execute_input": "2023-10-01T11:26:41.742196Z",
     "iopub.status.busy": "2023-10-01T11:26:41.741506Z",
     "iopub.status.idle": "2023-10-01T11:26:49.392734Z",
     "shell.execute_reply": "2023-10-01T11:26:49.391566Z",
     "shell.execute_reply.started": "2023-10-01T11:26:41.742161Z"
    }
   },
   "outputs": [
    {
     "data": {
      "text/plain": [
       "<seaborn.axisgrid.FacetGrid at 0x1395eef9310>"
      ]
     },
     "execution_count": 75,
     "metadata": {},
     "output_type": "execute_result"
    },
    {
     "data": {
      "image/png": "[encoded data removed]",
      "text/plain": [
       "<Figure size 408.75x360 with 1 Axes>"
      ]
     },
     "metadata": {
      "needs_background": "light"
     },
     "output_type": "display_data"
    }
   ],
   "source": [
    "import seaborn as sns\n",
    "sns.displot(X_train_scaled)"
   ]
  },
  {
   "cell_type": "code",
   "execution_count": 76,
   "metadata": {
    "execution": {
     "iopub.execute_input": "2023-10-01T11:27:02.628879Z",
     "iopub.status.busy": "2023-10-01T11:27:02.628475Z",
     "iopub.status.idle": "2023-10-01T11:27:06.631222Z",
     "shell.execute_reply": "2023-10-01T11:27:06.630459Z",
     "shell.execute_reply.started": "2023-10-01T11:27:02.628850Z"
    }
   },
   "outputs": [
    {
     "data": {
      "text/plain": [
       "<seaborn.axisgrid.FacetGrid at 0x1391113f280>"
      ]
     },
     "execution_count": 76,
     "metadata": {},
     "output_type": "execute_result"
    },
    {
     "data": {
      "image/png": "[encoded data removed]",
      "text/plain": [
       "<Figure size 408.75x360 with 1 Axes>"
      ]
     },
     "metadata": {
      "needs_background": "light"
     },
     "output_type": "display_data"
    }
   ],
   "source": [
    "sns.displot(X_test_scaled)"
   ]
  },
  {
   "cell_type": "code",
   "execution_count": 77,
   "metadata": {},
   "outputs": [],
   "source": [
    "import matplotlib.pyplot as plt"
   ]
  },
  {
   "cell_type": "code",
   "execution_count": 78,
   "metadata": {
    "execution": {
     "iopub.execute_input": "2023-10-01T11:46:28.733296Z",
     "iopub.status.busy": "2023-10-01T11:46:28.732032Z",
     "iopub.status.idle": "2023-10-01T11:47:19.685079Z",
     "shell.execute_reply": "2023-10-01T11:47:19.683802Z",
     "shell.execute_reply.started": "2023-10-01T11:46:28.733251Z"
    }
   },
   "outputs": [
    {
     "name": "stderr",
     "output_type": "stream",
     "text": [
      "C:\\Users\\DELL-PC\\AppData\\Local\\Temp\\ipykernel_13252\\1728321861.py:1: DataConversionWarning: A column-vector y was passed when a 1d array was expected. Please change the shape of y to (n_samples,), for example using ravel().\n",
      "  RanFor=RandomForestClassifier(n_estimators=190,min_samples_split=3,min_samples_leaf=1,max_depth=160,max_features='auto').fit(X_train_scaled,y_train)\n"
     ]
    },
    {
     "name": "stdout",
     "output_type": "stream",
     "text": [
      "Accuracy: 0.927\n",
      "F1_Score: 0.925\n",
      "Recall_Score: 0.927\n",
      "Precision_Score: 0.926\n"
     ]
    },
    {
     "name": "stderr",
     "output_type": "stream",
     "text": [
      "C:\\Users\\DELL-PC\\anaconda3\\lib\\site-packages\\sklearn\\model_selection\\_validation.py:680: DataConversionWarning: A column-vector y was passed when a 1d array was expected. Please change the shape of y to (n_samples,), for example using ravel().\n",
      "  estimator.fit(X_train, y_train, **fit_params)\n",
      "C:\\Users\\DELL-PC\\anaconda3\\lib\\site-packages\\sklearn\\model_selection\\_validation.py:680: DataConversionWarning: A column-vector y was passed when a 1d array was expected. Please change the shape of y to (n_samples,), for example using ravel().\n",
      "  estimator.fit(X_train, y_train, **fit_params)\n",
      "C:\\Users\\DELL-PC\\anaconda3\\lib\\site-packages\\sklearn\\model_selection\\_validation.py:680: DataConversionWarning: A column-vector y was passed when a 1d array was expected. Please change the shape of y to (n_samples,), for example using ravel().\n",
      "  estimator.fit(X_train, y_train, **fit_params)\n",
      "C:\\Users\\DELL-PC\\anaconda3\\lib\\site-packages\\sklearn\\model_selection\\_validation.py:680: DataConversionWarning: A column-vector y was passed when a 1d array was expected. Please change the shape of y to (n_samples,), for example using ravel().\n",
      "  estimator.fit(X_train, y_train, **fit_params)\n",
      "C:\\Users\\DELL-PC\\anaconda3\\lib\\site-packages\\sklearn\\model_selection\\_validation.py:680: DataConversionWarning: A column-vector y was passed when a 1d array was expected. Please change the shape of y to (n_samples,), for example using ravel().\n",
      "  estimator.fit(X_train, y_train, **fit_params)\n",
      "C:\\Users\\DELL-PC\\anaconda3\\lib\\site-packages\\sklearn\\model_selection\\_validation.py:680: DataConversionWarning: A column-vector y was passed when a 1d array was expected. Please change the shape of y to (n_samples,), for example using ravel().\n",
      "  estimator.fit(X_train, y_train, **fit_params)\n"
     ]
    },
    {
     "name": "stdout",
     "output_type": "stream",
     "text": [
      "Cross Validation Score: 0.929\n",
      "                  precision    recall  f1-score   support\n",
      "\n",
      "Extremely Severe     0.9836    0.9836    0.9836      1036\n",
      "            Mild     0.8607    0.6789    0.7591       355\n",
      "        Moderate     0.8563    0.9091    0.8819       616\n",
      "          Normal     0.9425    0.9817    0.9617       818\n",
      "          Severe     0.9161    0.9208    0.9185       581\n",
      "\n",
      "        accuracy                         0.9272      3406\n",
      "       macro avg     0.9118    0.8948    0.9009      3406\n",
      "    weighted avg     0.9264    0.9272    0.9254      3406\n",
      "\n"
     ]
    },
    {
     "data": {
      "image/png": "[encoded data removed]",
      "text/plain": [
       "<Figure size 720x720 with 2 Axes>"
      ]
     },
     "metadata": {
      "needs_background": "light"
     },
     "output_type": "display_data"
    }
   ],
   "source": [
    "RanFor=RandomForestClassifier(n_estimators=190,min_samples_split=3,min_samples_leaf=1,max_depth=160,max_features='auto').fit(X_train_scaled,y_train)\n",
    "Acc_ran=round(accuracy_score(y_test,RanFor.predict(X_test_scaled)),3)\n",
    "f1_ran=round(f1_score(y_test,RanFor.predict(X_test_scaled),average='weighted'),3)\n",
    "recall_ran=round(recall_score(y_test,RanFor.predict(X_test_scaled),average='weighted'),3)\n",
    "precision_ran=round(precision_score(y_test,RanFor.predict(X_test_scaled),average='weighted'),3)\n",
    "print('Accuracy:',Acc_ran)\n",
    "print('F1_Score:',f1_ran)\n",
    "print('Recall_Score:',recall_ran)\n",
    "print('Precision_Score:',precision_ran)\n",
    "print('Cross Validation Score:',round(np.mean(cross_val_score(RanFor, X_train_scaled, y_train, cv = 6)),3))\n",
    "classification=classification_report(\n",
    "    digits=4,\n",
    "    y_true=y_test,\n",
    "    y_pred=RanFor.predict(X_test_scaled))\n",
    "print(classification)\n",
    "confusion = confusion_matrix(y_test, RanFor.predict(X_test_scaled))\n",
    "\n",
    "\n",
    "fig, ax = plt.subplots(figsize=(10, 10))\n",
    "im = ax.imshow(confusion, cmap=plt.cm.Blues)\n",
    "for i in range(len(confusion)):\n",
    "    for j in range(len(confusion[i])):\n",
    "        text = ax.text(j, i, str(confusion[i, j]),\n",
    "                       ha=\"center\", va=\"center\", color=\"black\")\n",
    "\n",
    "plt.colorbar(im)\n",
    "plt.title('Confusion Matrix')\n",
    "plt.xlabel('Predicted')\n",
    "plt.ylabel('Actual')\n",
    "plt.show()"
   ]
  },
  {
   "cell_type": "code",
   "execution_count": 79,
   "metadata": {
    "execution": {
     "iopub.execute_input": "2023-10-01T11:45:56.333742Z",
     "iopub.status.busy": "2023-10-01T11:45:56.332957Z",
     "iopub.status.idle": "2023-10-01T11:45:58.692553Z",
     "shell.execute_reply": "2023-10-01T11:45:58.691234Z",
     "shell.execute_reply.started": "2023-10-01T11:45:56.333691Z"
    }
   },
   "outputs": [
    {
     "name": "stdout",
     "output_type": "stream",
     "text": [
      "Accuracy: 0.816\n",
      "F1_Score: 0.816\n",
      "Recall_Score: 0.816\n",
      "Precision_Score: 0.817\n",
      "Cross Validation Score: 0.799\n",
      "                  precision    recall  f1-score   support\n",
      "\n",
      "Extremely Severe     0.9331    0.9431    0.9381      1036\n",
      "            Mild     0.5654    0.6085    0.5862       355\n",
      "        Moderate     0.6997    0.7110    0.7053       616\n",
      "          Normal     0.9177    0.9132    0.9154       818\n",
      "          Severe     0.7449    0.6885    0.7156       581\n",
      "\n",
      "        accuracy                         0.8156      3406\n",
      "       macro avg     0.7722    0.7728    0.7721      3406\n",
      "    weighted avg     0.8168    0.8156    0.8159      3406\n",
      "\n"
     ]
    },
    {
     "data": {
      "image/png": "[encoded data removed]",
      "text/plain": [
       "<Figure size 720x720 with 2 Axes>"
      ]
     },
     "metadata": {
      "needs_background": "light"
     },
     "output_type": "display_data"
    }
   ],
   "source": [
    "DT=DecisionTreeClassifier(criterion='entropy',splitter='best',min_samples_split=9,min_samples_leaf=2,max_depth=100).fit(X_train_scaled,y_train)\n",
    "Acc_dt=round(accuracy_score(y_test,DT.predict(X_test_scaled)),3)\n",
    "f1_dt=round(f1_score(y_test,DT.predict(X_test_scaled),average='weighted'),3)\n",
    "recall_dt=round(recall_score(y_test,DT.predict(X_test_scaled),average='weighted'),3)\n",
    "precision_dt=round(precision_score(y_test,DT.predict(X_test_scaled),average='weighted'),3)\n",
    "print('Accuracy:',Acc_dt)\n",
    "print('F1_Score:',f1_dt)\n",
    "print('Recall_Score:',recall_dt)\n",
    "print('Precision_Score:',precision_dt)\n",
    "print('Cross Validation Score:',round(np.mean(cross_val_score(DT, X_train_scaled, y_train, cv = 6)),3))\n",
    "classification=classification_report(\n",
    "    digits=4,\n",
    "    y_true=y_test,\n",
    "    y_pred=DT.predict(X_test_scaled))\n",
    "print(classification)\n",
    "fig, ax = plt.subplots(figsize=(10, 10))\n",
    "im = ax.imshow(confusion, cmap=plt.cm.Blues)\n",
    "for i in range(len(confusion)):\n",
    "    for j in range(len(confusion[i])):\n",
    "        text = ax.text(j, i, str(confusion[i, j]),\n",
    "                       ha=\"center\", va=\"center\", color=\"black\")\n",
    "\n",
    "plt.colorbar(im)\n",
    "plt.title('Confusion Matrix')\n",
    "plt.xlabel('Predicted')\n",
    "plt.ylabel('Actual')\n",
    "plt.show()"
   ]
  },
  {
   "cell_type": "code",
   "execution_count": 80,
   "metadata": {
    "execution": {
     "iopub.execute_input": "2023-10-01T11:48:09.051994Z",
     "iopub.status.busy": "2023-10-01T11:48:09.051651Z",
     "iopub.status.idle": "2023-10-01T11:48:10.188555Z",
     "shell.execute_reply": "2023-10-01T11:48:10.187190Z",
     "shell.execute_reply.started": "2023-10-01T11:48:09.051964Z"
    }
   },
   "outputs": [
    {
     "name": "stderr",
     "output_type": "stream",
     "text": [
      "C:\\Users\\DELL-PC\\anaconda3\\lib\\site-packages\\sklearn\\utils\\validation.py:993: DataConversionWarning: A column-vector y was passed when a 1d array was expected. Please change the shape of y to (n_samples, ), for example using ravel().\n",
      "  y = column_or_1d(y, warn=True)\n"
     ]
    },
    {
     "name": "stdout",
     "output_type": "stream",
     "text": [
      "Accuracy: 0.881\n",
      "F1_Score: 0.885\n",
      "Recall_Score: 0.881\n",
      "Precision_Score: 0.897\n"
     ]
    },
    {
     "name": "stderr",
     "output_type": "stream",
     "text": [
      "C:\\Users\\DELL-PC\\anaconda3\\lib\\site-packages\\sklearn\\utils\\validation.py:993: DataConversionWarning: A column-vector y was passed when a 1d array was expected. Please change the shape of y to (n_samples, ), for example using ravel().\n",
      "  y = column_or_1d(y, warn=True)\n",
      "C:\\Users\\DELL-PC\\anaconda3\\lib\\site-packages\\sklearn\\utils\\validation.py:993: DataConversionWarning: A column-vector y was passed when a 1d array was expected. Please change the shape of y to (n_samples, ), for example using ravel().\n",
      "  y = column_or_1d(y, warn=True)\n",
      "C:\\Users\\DELL-PC\\anaconda3\\lib\\site-packages\\sklearn\\utils\\validation.py:993: DataConversionWarning: A column-vector y was passed when a 1d array was expected. Please change the shape of y to (n_samples, ), for example using ravel().\n",
      "  y = column_or_1d(y, warn=True)\n",
      "C:\\Users\\DELL-PC\\anaconda3\\lib\\site-packages\\sklearn\\utils\\validation.py:993: DataConversionWarning: A column-vector y was passed when a 1d array was expected. Please change the shape of y to (n_samples, ), for example using ravel().\n",
      "  y = column_or_1d(y, warn=True)\n",
      "C:\\Users\\DELL-PC\\anaconda3\\lib\\site-packages\\sklearn\\utils\\validation.py:993: DataConversionWarning: A column-vector y was passed when a 1d array was expected. Please change the shape of y to (n_samples, ), for example using ravel().\n",
      "  y = column_or_1d(y, warn=True)\n",
      "C:\\Users\\DELL-PC\\anaconda3\\lib\\site-packages\\sklearn\\utils\\validation.py:993: DataConversionWarning: A column-vector y was passed when a 1d array was expected. Please change the shape of y to (n_samples, ), for example using ravel().\n",
      "  y = column_or_1d(y, warn=True)\n"
     ]
    },
    {
     "name": "stdout",
     "output_type": "stream",
     "text": [
      "Cross Validation Score: 0.873\n",
      "                  precision    recall  f1-score   support\n",
      "\n",
      "Extremely Severe     1.0000    0.8929    0.9434      1036\n",
      "            Mild     0.6477    0.8028    0.7170       355\n",
      "        Moderate     0.8432    0.8555    0.8493       616\n",
      "          Normal     0.9917    0.8741    0.9292       818\n",
      "          Severe     0.7871    0.9415    0.8574       581\n",
      "\n",
      "        accuracy                         0.8805      3406\n",
      "       macro avg     0.8539    0.8734    0.8592      3406\n",
      "    weighted avg     0.8966    0.8805    0.8847      3406\n",
      "\n"
     ]
    },
    {
     "data": {
      "image/png": "[encoded data removed]",
      "text/plain": [
       "<Figure size 720x720 with 2 Axes>"
      ]
     },
     "metadata": {
      "needs_background": "light"
     },
     "output_type": "display_data"
    }
   ],
   "source": [
    "gb=GaussianNB().fit(X_train_scaled,y_train)\n",
    "Acc_gb=round(accuracy_score(y_test,gb.predict(X_test_scaled)),3)\n",
    "f1_gb=round(f1_score(y_test,gb.predict(X_test_scaled),average='weighted'),3)\n",
    "recall_gb=round(recall_score(y_test,gb.predict(X_test_scaled),average='weighted'),3)\n",
    "precision_gb=round(precision_score(y_test,gb.predict(X_test_scaled),average='weighted'),3)\n",
    "print('Accuracy:',Acc_gb)\n",
    "print('F1_Score:',f1_gb)\n",
    "print('Recall_Score:',recall_gb)\n",
    "print('Precision_Score:',precision_gb)\n",
    "print('Cross Validation Score:',round(np.mean(cross_val_score(gb, X_train_scaled, y_train, cv = 6)),3))\n",
    "classification=classification_report(\n",
    "    digits=4,\n",
    "    y_true=y_test,\n",
    "    y_pred=gb.predict(X_test_scaled))\n",
    "print(classification)\n",
    "fig, ax = plt.subplots(figsize=(10, 10))\n",
    "im = ax.imshow(confusion, cmap=plt.cm.Blues)\n",
    "for i in range(len(confusion)):\n",
    "    for j in range(len(confusion[i])):\n",
    "        text = ax.text(j, i, str(confusion[i, j]),\n",
    "                       ha=\"center\", va=\"center\", color=\"black\")\n",
    "\n",
    "plt.colorbar(im)\n",
    "plt.title('Confusion Matrix')\n",
    "plt.xlabel('Predicted')\n",
    "plt.ylabel('Actual')\n",
    "plt.show()"
   ]
  },
  {
   "cell_type": "code",
   "execution_count": 81,
   "metadata": {
    "execution": {
     "iopub.execute_input": "2023-10-01T11:48:39.045480Z",
     "iopub.status.busy": "2023-10-01T11:48:39.045041Z",
     "iopub.status.idle": "2023-10-01T11:48:46.489505Z",
     "shell.execute_reply": "2023-10-01T11:48:46.488502Z",
     "shell.execute_reply.started": "2023-10-01T11:48:39.045448Z"
    }
   },
   "outputs": [
    {
     "name": "stderr",
     "output_type": "stream",
     "text": [
      "C:\\Users\\DELL-PC\\anaconda3\\lib\\site-packages\\sklearn\\neighbors\\_classification.py:198: DataConversionWarning: A column-vector y was passed when a 1d array was expected. Please change the shape of y to (n_samples,), for example using ravel().\n",
      "  return self._fit(X, y)\n"
     ]
    },
    {
     "name": "stdout",
     "output_type": "stream",
     "text": [
      "Accuracy: 0.872\n",
      "F1_Score: 0.866\n",
      "Recall_Score: 0.872\n",
      "Precision_Score: 0.874\n"
     ]
    },
    {
     "name": "stderr",
     "output_type": "stream",
     "text": [
      "C:\\Users\\DELL-PC\\anaconda3\\lib\\site-packages\\sklearn\\neighbors\\_classification.py:198: DataConversionWarning: A column-vector y was passed when a 1d array was expected. Please change the shape of y to (n_samples,), for example using ravel().\n",
      "  return self._fit(X, y)\n",
      "C:\\Users\\DELL-PC\\anaconda3\\lib\\site-packages\\sklearn\\neighbors\\_classification.py:198: DataConversionWarning: A column-vector y was passed when a 1d array was expected. Please change the shape of y to (n_samples,), for example using ravel().\n",
      "  return self._fit(X, y)\n",
      "C:\\Users\\DELL-PC\\anaconda3\\lib\\site-packages\\sklearn\\neighbors\\_classification.py:198: DataConversionWarning: A column-vector y was passed when a 1d array was expected. Please change the shape of y to (n_samples,), for example using ravel().\n",
      "  return self._fit(X, y)\n",
      "C:\\Users\\DELL-PC\\anaconda3\\lib\\site-packages\\sklearn\\neighbors\\_classification.py:198: DataConversionWarning: A column-vector y was passed when a 1d array was expected. Please change the shape of y to (n_samples,), for example using ravel().\n",
      "  return self._fit(X, y)\n",
      "C:\\Users\\DELL-PC\\anaconda3\\lib\\site-packages\\sklearn\\neighbors\\_classification.py:198: DataConversionWarning: A column-vector y was passed when a 1d array was expected. Please change the shape of y to (n_samples,), for example using ravel().\n",
      "  return self._fit(X, y)\n",
      "C:\\Users\\DELL-PC\\anaconda3\\lib\\site-packages\\sklearn\\neighbors\\_classification.py:198: DataConversionWarning: A column-vector y was passed when a 1d array was expected. Please change the shape of y to (n_samples,), for example using ravel().\n",
      "  return self._fit(X, y)\n"
     ]
    },
    {
     "name": "stdout",
     "output_type": "stream",
     "text": [
      "Cross Validation Score: 0.872\n",
      "                  precision    recall  f1-score   support\n",
      "\n",
      "Extremely Severe     0.9524    0.9855    0.9687      1036\n",
      "            Mild     0.7377    0.5070    0.6010       355\n",
      "        Moderate     0.7312    0.9010    0.8073       616\n",
      "          Normal     0.9009    0.9780    0.9379       818\n",
      "          Severe     0.9323    0.7108    0.8066       581\n",
      "\n",
      "        accuracy                         0.8717      3406\n",
      "       macro avg     0.8509    0.8165    0.8243      3406\n",
      "    weighted avg     0.8742    0.8717    0.8661      3406\n",
      "\n"
     ]
    },
    {
     "data": {
      "image/png": "[encoded data removed]",
      "text/plain": [
       "<Figure size 720x720 with 2 Axes>"
      ]
     },
     "metadata": {
      "needs_background": "light"
     },
     "output_type": "display_data"
    }
   ],
   "source": [
    "knn=KNeighborsClassifier(n_neighbors=15).fit(X_train_scaled,y_train)\n",
    "Acc_knn=round(accuracy_score(y_test,knn.predict(X_test_scaled)),3)\n",
    "f1_knn=round(f1_score(y_test,knn.predict(X_test_scaled),average='weighted'),3)\n",
    "recall_knn=round(recall_score(y_test,knn.predict(X_test_scaled),average='weighted'),3)\n",
    "precision_knn=round(precision_score(y_test,knn.predict(X_test_scaled),average='weighted'),3)\n",
    "print('Accuracy:',Acc_knn)\n",
    "print('F1_Score:',f1_knn)\n",
    "print('Recall_Score:',recall_knn)\n",
    "print('Precision_Score:',precision_knn)\n",
    "print('Cross Validation Score:',round(np.mean(cross_val_score(knn, X_train_scaled, y_train, cv = 6)),3))\n",
    "classification=classification_report(\n",
    "    digits=4,\n",
    "    y_true=y_test,\n",
    "    y_pred=knn.predict(X_test_scaled))\n",
    "print(classification)\n",
    "fig, ax = plt.subplots(figsize=(10, 10))\n",
    "im = ax.imshow(confusion, cmap=plt.cm.Blues)\n",
    "for i in range(len(confusion)):\n",
    "    for j in range(len(confusion[i])):\n",
    "        text = ax.text(j, i, str(confusion[i, j]),\n",
    "                       ha=\"center\", va=\"center\", color=\"black\")\n",
    "\n",
    "plt.colorbar(im)\n",
    "plt.title('Confusion Matrix')\n",
    "plt.xlabel('Predicted')\n",
    "plt.ylabel('Actual')\n",
    "plt.show()"
   ]
  },
  {
   "cell_type": "code",
   "execution_count": 82,
   "metadata": {
    "execution": {
     "iopub.execute_input": "2023-10-01T11:49:14.408354Z",
     "iopub.status.busy": "2023-10-01T11:49:14.407949Z",
     "iopub.status.idle": "2023-10-01T11:50:05.899239Z",
     "shell.execute_reply": "2023-10-01T11:50:05.898118Z",
     "shell.execute_reply.started": "2023-10-01T11:49:14.408306Z"
    }
   },
   "outputs": [
    {
     "name": "stderr",
     "output_type": "stream",
     "text": [
      "C:\\Users\\DELL-PC\\anaconda3\\lib\\site-packages\\sklearn\\utils\\validation.py:993: DataConversionWarning: A column-vector y was passed when a 1d array was expected. Please change the shape of y to (n_samples, ), for example using ravel().\n",
      "  y = column_or_1d(y, warn=True)\n"
     ]
    },
    {
     "name": "stdout",
     "output_type": "stream",
     "text": [
      "Accuracy: 1.0\n",
      "F1_Score: 1.0\n",
      "Recall_Score: 1.0\n",
      "Precision_Score: 1.0\n"
     ]
    },
    {
     "name": "stderr",
     "output_type": "stream",
     "text": [
      "C:\\Users\\DELL-PC\\anaconda3\\lib\\site-packages\\sklearn\\utils\\validation.py:993: DataConversionWarning: A column-vector y was passed when a 1d array was expected. Please change the shape of y to (n_samples, ), for example using ravel().\n",
      "  y = column_or_1d(y, warn=True)\n",
      "C:\\Users\\DELL-PC\\anaconda3\\lib\\site-packages\\sklearn\\utils\\validation.py:993: DataConversionWarning: A column-vector y was passed when a 1d array was expected. Please change the shape of y to (n_samples, ), for example using ravel().\n",
      "  y = column_or_1d(y, warn=True)\n",
      "C:\\Users\\DELL-PC\\anaconda3\\lib\\site-packages\\sklearn\\utils\\validation.py:993: DataConversionWarning: A column-vector y was passed when a 1d array was expected. Please change the shape of y to (n_samples, ), for example using ravel().\n",
      "  y = column_or_1d(y, warn=True)\n",
      "C:\\Users\\DELL-PC\\anaconda3\\lib\\site-packages\\sklearn\\utils\\validation.py:993: DataConversionWarning: A column-vector y was passed when a 1d array was expected. Please change the shape of y to (n_samples, ), for example using ravel().\n",
      "  y = column_or_1d(y, warn=True)\n",
      "C:\\Users\\DELL-PC\\anaconda3\\lib\\site-packages\\sklearn\\utils\\validation.py:993: DataConversionWarning: A column-vector y was passed when a 1d array was expected. Please change the shape of y to (n_samples, ), for example using ravel().\n",
      "  y = column_or_1d(y, warn=True)\n",
      "C:\\Users\\DELL-PC\\anaconda3\\lib\\site-packages\\sklearn\\utils\\validation.py:993: DataConversionWarning: A column-vector y was passed when a 1d array was expected. Please change the shape of y to (n_samples, ), for example using ravel().\n",
      "  y = column_or_1d(y, warn=True)\n"
     ]
    },
    {
     "name": "stdout",
     "output_type": "stream",
     "text": [
      "Cross Validation Score: 1.0\n",
      "                  precision    recall  f1-score   support\n",
      "\n",
      "Extremely Severe     1.0000    1.0000    1.0000      1036\n",
      "            Mild     1.0000    1.0000    1.0000       355\n",
      "        Moderate     1.0000    1.0000    1.0000       616\n",
      "          Normal     1.0000    1.0000    1.0000       818\n",
      "          Severe     1.0000    1.0000    1.0000       581\n",
      "\n",
      "        accuracy                         1.0000      3406\n",
      "       macro avg     1.0000    1.0000    1.0000      3406\n",
      "    weighted avg     1.0000    1.0000    1.0000      3406\n",
      "\n"
     ]
    },
    {
     "data": {
      "image/png": "[encoded data removed]",
      "text/plain": [
       "<Figure size 720x720 with 2 Axes>"
      ]
     },
     "metadata": {
      "needs_background": "light"
     },
     "output_type": "display_data"
    }
   ],
   "source": [
    "from sklearn.svm import SVC\n",
    "svm=SVC(C=100,gamma=0.1,kernel='rbf').fit(X_train_scaled,y_train)\n",
    "Acc_svm=round(accuracy_score(y_test,svm.predict(X_test_scaled)),3)\n",
    "f1_svm=round(f1_score(y_test,svm.predict(X_test_scaled),average='weighted'),3)\n",
    "recall_svm=round(recall_score(y_test,svm.predict(X_test_scaled),average='weighted'),3)\n",
    "precision_svm=round(precision_score(y_test,svm.predict(X_test_scaled),average='weighted'),3)\n",
    "print('Accuracy:',Acc_svm)\n",
    "print('F1_Score:',f1_svm)\n",
    "print('Recall_Score:',recall_svm)\n",
    "print('Precision_Score:',precision_svm)\n",
    "print('Cross Validation Score:',round(np.mean(cross_val_score(svm, X_train_scaled, y_train, cv = 6)),3))\n",
    "classification=classification_report(\n",
    "    digits=4,\n",
    "    y_true=y_test,\n",
    "    y_pred=svm.predict(X_test_scaled))\n",
    "print(classification)\n",
    "fig, ax = plt.subplots(figsize=(10, 10))\n",
    "im = ax.imshow(confusion, cmap=plt.cm.Blues)\n",
    "for i in range(len(confusion)):\n",
    "    for j in range(len(confusion[i])):\n",
    "        text = ax.text(j, i, str(confusion[i, j]),\n",
    "                       ha=\"center\", va=\"center\", color=\"black\")\n",
    "\n",
    "plt.colorbar(im)\n",
    "plt.title('Confusion Matrix')\n",
    "plt.xlabel('Predicted')\n",
    "plt.ylabel('Actual')\n",
    "plt.show()"
   ]
  },
  {
   "cell_type": "code",
   "execution_count": 83,
   "metadata": {
    "execution": {
     "iopub.execute_input": "2023-10-01T11:51:15.146072Z",
     "iopub.status.busy": "2023-10-01T11:51:15.145649Z",
     "iopub.status.idle": "2023-10-01T11:51:15.154427Z",
     "shell.execute_reply": "2023-10-01T11:51:15.153184Z",
     "shell.execute_reply.started": "2023-10-01T11:51:15.146040Z"
    }
   },
   "outputs": [],
   "source": [
    "Result={\n",
    "                  'Model':['Random-Forest','Decision-Tree','GaussianNB','Nearest-Neighbors','SVM'],\n",
    "                  'Accuracy(%)':[Acc_ran*100,Acc_dt*100,Acc_gb*100,Acc_knn*100,Acc_svm*100],\n",
    "                  'F1_Score(%)':[f1_ran*100,f1_dt*100,f1_gb*100,f1_knn*100,f1_svm*100],\n",
    "                  'Precision(%)':[precision_ran*100,precision_dt*100,precision_gb*100,precision_knn*100,precision_svm*100],\n",
    "                  'Recall(%)':[recall_ran*100,recall_dt*100,recall_gb*100,recall_knn*100,recall_svm*100],\n",
    "                    }\n",
    "Result_Depression=pd.DataFrame(Result)"
   ]
  },
  {
   "cell_type": "code",
   "execution_count": 84,
   "metadata": {
    "execution": {
     "iopub.execute_input": "2023-10-01T11:51:17.551841Z",
     "iopub.status.busy": "2023-10-01T11:51:17.551431Z",
     "iopub.status.idle": "2023-10-01T11:51:17.602388Z",
     "shell.execute_reply": "2023-10-01T11:51:17.601298Z",
     "shell.execute_reply.started": "2023-10-01T11:51:17.551811Z"
    }
   },
   "outputs": [],
   "source": [
    "scaler=MinMaxScaler()\n",
    "X=Stress[['Q1A', 'Q6A', 'Q8A', 'Q11A', 'Q12A', 'Q14A', 'Q18A', 'Q22A', 'Q27A',\n",
    "       'Q29A', 'Q32A', 'Q33A', 'Q35A', 'Q39A',\n",
    "       'Extraverted-enthusiastic', 'Critical-quarrelsome',\n",
    "       'Dependable-self_disciplined', 'Anxious-easily upset',\n",
    "        'Open to new experiences-complex', 'Reserved-quiet', 'Sympathetic-warm',\n",
    "        'Disorganized-careless', 'Calm-emotionally_stable',\n",
    "        'Conventional-uncreative', 'education', 'urban', 'gender', 'engnat',\n",
    "        'screensize', 'uniquenetworklocation', 'hand', 'religion',\n",
    "        'orientation', 'race', 'voted', 'married', 'familysize',\n",
    "        'Age_Groups']]\n",
    "y=Stress[['Condition']]\n",
    "X_train,X_test,y_train,y_test=train_test_split(X,y,test_size=0.10,random_state=0)\n",
    "X_train_scaled = scaler.fit_transform(X_train)\n",
    "X_test_scaled = scaler.transform(X_test)"
   ]
  },
  {
   "cell_type": "code",
   "execution_count": 85,
   "metadata": {
    "execution": {
     "iopub.execute_input": "2023-10-01T11:51:21.418805Z",
     "iopub.status.busy": "2023-10-01T11:51:21.418440Z",
     "iopub.status.idle": "2023-10-01T11:51:52.719981Z",
     "shell.execute_reply": "2023-10-01T11:51:52.718747Z",
     "shell.execute_reply.started": "2023-10-01T11:51:21.418778Z"
    }
   },
   "outputs": [
    {
     "name": "stderr",
     "output_type": "stream",
     "text": [
      "C:\\Users\\DELL-PC\\AppData\\Local\\Temp\\ipykernel_13252\\4252495271.py:1: DataConversionWarning: A column-vector y was passed when a 1d array was expected. Please change the shape of y to (n_samples,), for example using ravel().\n",
      "  ran=RandomForestClassifier().fit(X_train_scaled,y_train)\n"
     ]
    },
    {
     "name": "stdout",
     "output_type": "stream",
     "text": [
      "Accuracy: 0.887\n",
      "F1_Score: 0.884\n",
      "Recall_Score: 0.887\n",
      "Precision_Score: 0.888\n"
     ]
    },
    {
     "name": "stderr",
     "output_type": "stream",
     "text": [
      "C:\\Users\\DELL-PC\\anaconda3\\lib\\site-packages\\sklearn\\model_selection\\_validation.py:680: DataConversionWarning: A column-vector y was passed when a 1d array was expected. Please change the shape of y to (n_samples,), for example using ravel().\n",
      "  estimator.fit(X_train, y_train, **fit_params)\n",
      "C:\\Users\\DELL-PC\\anaconda3\\lib\\site-packages\\sklearn\\model_selection\\_validation.py:680: DataConversionWarning: A column-vector y was passed when a 1d array was expected. Please change the shape of y to (n_samples,), for example using ravel().\n",
      "  estimator.fit(X_train, y_train, **fit_params)\n",
      "C:\\Users\\DELL-PC\\anaconda3\\lib\\site-packages\\sklearn\\model_selection\\_validation.py:680: DataConversionWarning: A column-vector y was passed when a 1d array was expected. Please change the shape of y to (n_samples,), for example using ravel().\n",
      "  estimator.fit(X_train, y_train, **fit_params)\n",
      "C:\\Users\\DELL-PC\\anaconda3\\lib\\site-packages\\sklearn\\model_selection\\_validation.py:680: DataConversionWarning: A column-vector y was passed when a 1d array was expected. Please change the shape of y to (n_samples,), for example using ravel().\n",
      "  estimator.fit(X_train, y_train, **fit_params)\n",
      "C:\\Users\\DELL-PC\\anaconda3\\lib\\site-packages\\sklearn\\model_selection\\_validation.py:680: DataConversionWarning: A column-vector y was passed when a 1d array was expected. Please change the shape of y to (n_samples,), for example using ravel().\n",
      "  estimator.fit(X_train, y_train, **fit_params)\n",
      "C:\\Users\\DELL-PC\\anaconda3\\lib\\site-packages\\sklearn\\model_selection\\_validation.py:680: DataConversionWarning: A column-vector y was passed when a 1d array was expected. Please change the shape of y to (n_samples,), for example using ravel().\n",
      "  estimator.fit(X_train, y_train, **fit_params)\n"
     ]
    },
    {
     "name": "stdout",
     "output_type": "stream",
     "text": [
      "Cross Validation Score: 0.889693827231858\n",
      "                  precision    recall  f1-score   support\n",
      "\n",
      "Extremely Severe     0.9663    0.8951    0.9293       448\n",
      "            Mild     0.8399    0.6083    0.7056       457\n",
      "        Moderate     0.7975    0.8988    0.8451       771\n",
      "          Normal     0.9520    0.9772    0.9644      1095\n",
      "          Severe     0.8694    0.9086    0.8886       711\n",
      "\n",
      "        accuracy                         0.8868      3482\n",
      "       macro avg     0.8850    0.8576    0.8666      3482\n",
      "    weighted avg     0.8880    0.8868    0.8840      3482\n",
      "\n"
     ]
    },
    {
     "data": {
      "image/png": "[encoded data removed]",
      "text/plain": [
       "<Figure size 720x720 with 2 Axes>"
      ]
     },
     "metadata": {
      "needs_background": "light"
     },
     "output_type": "display_data"
    }
   ],
   "source": [
    "ran=RandomForestClassifier().fit(X_train_scaled,y_train)\n",
    "acc_ran=round(accuracy_score(y_test,ran.predict(X_test_scaled)),3)\n",
    "F1_ran=round(f1_score(y_test,ran.predict(X_test_scaled),average='weighted'),3)\n",
    "prec_ran=round(precision_score(y_test,ran.predict(X_test_scaled),average='weighted'),3)\n",
    "rec_ran=round(recall_score(y_test,ran.predict(X_test_scaled),average='weighted'),3)\n",
    "print('Accuracy:',acc_ran)\n",
    "print('F1_Score:',F1_ran)\n",
    "print('Recall_Score:',rec_ran)\n",
    "print('Precision_Score:',prec_ran)\n",
    "print('Cross Validation Score:',(np.mean(cross_val_score(ran, X_train_scaled, y_train, cv = 6))))\n",
    "classification=classification_report(\n",
    "    digits=4,\n",
    "    y_true=y_test,\n",
    "    y_pred=ran.predict(X_test_scaled))\n",
    "print(classification)\n",
    "fig, ax = plt.subplots(figsize=(10, 10))\n",
    "im = ax.imshow(confusion, cmap=plt.cm.Blues)\n",
    "for i in range(len(confusion)):\n",
    "    for j in range(len(confusion[i])):\n",
    "        text = ax.text(j, i, str(confusion[i, j]),\n",
    "                       ha=\"center\", va=\"center\", color=\"black\")\n",
    "\n",
    "plt.colorbar(im)\n",
    "plt.title('Confusion Matrix')\n",
    "plt.xlabel('Predicted')\n",
    "plt.ylabel('Actual')\n",
    "plt.show()"
   ]
  },
  {
   "cell_type": "code",
   "execution_count": 86,
   "metadata": {
    "execution": {
     "iopub.execute_input": "2023-10-01T11:58:00.529831Z",
     "iopub.status.busy": "2023-10-01T11:58:00.528476Z",
     "iopub.status.idle": "2023-10-01T11:58:02.985801Z",
     "shell.execute_reply": "2023-10-01T11:58:02.984527Z",
     "shell.execute_reply.started": "2023-10-01T11:58:00.529792Z"
    }
   },
   "outputs": [
    {
     "name": "stdout",
     "output_type": "stream",
     "text": [
      "Accuracy: 0.748\n",
      "F1_Score: 0.748\n",
      "Recall_Score: 0.748\n",
      "Precision_Score: 0.748\n",
      "Cross Validation Score: 0.7559605571612916\n",
      "                  precision    recall  f1-score   support\n",
      "\n",
      "Extremely Severe     0.8468    0.8393    0.8430       448\n",
      "            Mild     0.4883    0.5011    0.4946       457\n",
      "        Moderate     0.6760    0.6576    0.6667       771\n",
      "          Normal     0.8845    0.8813    0.8829      1095\n",
      "          Severe     0.7225    0.7398    0.7311       711\n",
      "\n",
      "        accuracy                         0.7476      3482\n",
      "       macro avg     0.7236    0.7238    0.7237      3482\n",
      "    weighted avg     0.7484    0.7476    0.7479      3482\n",
      "\n"
     ]
    },
    {
     "data": {
      "image/png": "[encoded data removed]",
      "text/plain": [
       "<Figure size 720x720 with 2 Axes>"
      ]
     },
     "metadata": {
      "needs_background": "light"
     },
     "output_type": "display_data"
    }
   ],
   "source": [
    "dt=DecisionTreeClassifier(criterion= 'entropy',max_depth= 80, min_samples_leaf= 9, min_samples_split=9).fit(X_train_scaled,y_train)\n",
    "acc_dt=round(accuracy_score(y_test,dt.predict(X_test_scaled)),3)\n",
    "F1_dt=round(f1_score(y_test,dt.predict(X_test_scaled),average='weighted'),3)\n",
    "prec_dt=round(precision_score(y_test,dt.predict(X_test_scaled),average='weighted'),3)\n",
    "rec_dt=round(recall_score(y_test,dt.predict(X_test_scaled),average='weighted'),3)\n",
    "print('Accuracy:',acc_dt)\n",
    "print('F1_Score:',F1_dt)\n",
    "print('Recall_Score:',rec_dt)\n",
    "print('Precision_Score:',prec_dt)\n",
    "print('Cross Validation Score:',(np.mean(cross_val_score(dt, X_train_scaled, y_train, cv = 6))))\n",
    "classification=classification_report(\n",
    "    digits=4,\n",
    "    y_true=y_test,\n",
    "    y_pred=dt.predict(X_test_scaled))\n",
    "print(classification)\n",
    "fig, ax = plt.subplots(figsize=(10, 10))\n",
    "im = ax.imshow(confusion, cmap=plt.cm.Blues)\n",
    "for i in range(len(confusion)):\n",
    "    for j in range(len(confusion[i])):\n",
    "        text = ax.text(j, i, str(confusion[i, j]),\n",
    "                       ha=\"center\", va=\"center\", color=\"black\")\n",
    "\n",
    "plt.colorbar(im)\n",
    "plt.title('Confusion Matrix')\n",
    "plt.xlabel('Predicted')\n",
    "plt.ylabel('Actual')\n",
    "plt.show()"
   ]
  },
  {
   "cell_type": "code",
   "execution_count": 87,
   "metadata": {
    "execution": {
     "iopub.execute_input": "2023-10-01T11:58:06.748947Z",
     "iopub.status.busy": "2023-10-01T11:58:06.748504Z",
     "iopub.status.idle": "2023-10-01T11:58:07.861883Z",
     "shell.execute_reply": "2023-10-01T11:58:07.860760Z",
     "shell.execute_reply.started": "2023-10-01T11:58:06.748915Z"
    }
   },
   "outputs": [
    {
     "name": "stderr",
     "output_type": "stream",
     "text": [
      "C:\\Users\\DELL-PC\\anaconda3\\lib\\site-packages\\sklearn\\utils\\validation.py:993: DataConversionWarning: A column-vector y was passed when a 1d array was expected. Please change the shape of y to (n_samples, ), for example using ravel().\n",
      "  y = column_or_1d(y, warn=True)\n"
     ]
    },
    {
     "name": "stdout",
     "output_type": "stream",
     "text": [
      "Accuracy: 0.858\n",
      "F1_Score: 0.862\n",
      "Recall_Score: 0.858\n",
      "Precision_Score: 0.874\n"
     ]
    },
    {
     "name": "stderr",
     "output_type": "stream",
     "text": [
      "C:\\Users\\DELL-PC\\anaconda3\\lib\\site-packages\\sklearn\\utils\\validation.py:993: DataConversionWarning: A column-vector y was passed when a 1d array was expected. Please change the shape of y to (n_samples, ), for example using ravel().\n",
      "  y = column_or_1d(y, warn=True)\n",
      "C:\\Users\\DELL-PC\\anaconda3\\lib\\site-packages\\sklearn\\utils\\validation.py:993: DataConversionWarning: A column-vector y was passed when a 1d array was expected. Please change the shape of y to (n_samples, ), for example using ravel().\n",
      "  y = column_or_1d(y, warn=True)\n",
      "C:\\Users\\DELL-PC\\anaconda3\\lib\\site-packages\\sklearn\\utils\\validation.py:993: DataConversionWarning: A column-vector y was passed when a 1d array was expected. Please change the shape of y to (n_samples, ), for example using ravel().\n",
      "  y = column_or_1d(y, warn=True)\n",
      "C:\\Users\\DELL-PC\\anaconda3\\lib\\site-packages\\sklearn\\utils\\validation.py:993: DataConversionWarning: A column-vector y was passed when a 1d array was expected. Please change the shape of y to (n_samples, ), for example using ravel().\n",
      "  y = column_or_1d(y, warn=True)\n",
      "C:\\Users\\DELL-PC\\anaconda3\\lib\\site-packages\\sklearn\\utils\\validation.py:993: DataConversionWarning: A column-vector y was passed when a 1d array was expected. Please change the shape of y to (n_samples, ), for example using ravel().\n",
      "  y = column_or_1d(y, warn=True)\n",
      "C:\\Users\\DELL-PC\\anaconda3\\lib\\site-packages\\sklearn\\utils\\validation.py:993: DataConversionWarning: A column-vector y was passed when a 1d array was expected. Please change the shape of y to (n_samples, ), for example using ravel().\n",
      "  y = column_or_1d(y, warn=True)\n"
     ]
    },
    {
     "name": "stdout",
     "output_type": "stream",
     "text": [
      "Cross Validation Score: 0.8504675801182279\n",
      "                  precision    recall  f1-score   support\n",
      "\n",
      "Extremely Severe     0.9646    0.8527    0.9052       448\n",
      "            Mild     0.6298    0.7965    0.7034       457\n",
      "        Moderate     0.8234    0.8768    0.8492       771\n",
      "          Normal     0.9873    0.8502    0.9136      1095\n",
      "          Severe     0.8535    0.8931    0.8729       711\n",
      "\n",
      "        accuracy                         0.8581      3482\n",
      "       macro avg     0.8517    0.8539    0.8489      3482\n",
      "    weighted avg     0.8738    0.8581    0.8624      3482\n",
      "\n"
     ]
    },
    {
     "data": {
      "image/png": "[encoded data removed]",
      "text/plain": [
       "<Figure size 720x720 with 2 Axes>"
      ]
     },
     "metadata": {
      "needs_background": "light"
     },
     "output_type": "display_data"
    }
   ],
   "source": [
    "Gb=GaussianNB().fit(X_train_scaled,y_train)\n",
    "acc_gb=round(accuracy_score(y_test,Gb.predict(X_test_scaled)),3)\n",
    "F1_gb=round(f1_score(y_test,Gb.predict(X_test_scaled),average='weighted'),3)\n",
    "prec_gb=round(precision_score(y_test,Gb.predict(X_test_scaled),average='weighted'),3)\n",
    "rec_gb=round(recall_score(y_test,Gb.predict(X_test_scaled),average='weighted'),3)\n",
    "print('Accuracy:',acc_gb)\n",
    "print('F1_Score:',F1_gb)\n",
    "print('Recall_Score:',rec_gb)\n",
    "print('Precision_Score:',prec_gb)\n",
    "print('Cross Validation Score:',(np.mean(cross_val_score(Gb, X_train_scaled, y_train, cv = 6))))\n",
    "classification=classification_report(\n",
    "    digits=4,\n",
    "    y_true=y_test,\n",
    "    y_pred=Gb.predict(X_test_scaled))\n",
    "print(classification)\n",
    "fig, ax = plt.subplots(figsize=(10, 10))\n",
    "im = ax.imshow(confusion, cmap=plt.cm.Blues)\n",
    "for i in range(len(confusion)):\n",
    "    for j in range(len(confusion[i])):\n",
    "        text = ax.text(j, i, str(confusion[i, j]),\n",
    "                       ha=\"center\", va=\"center\", color=\"black\")\n",
    "\n",
    "plt.colorbar(im)\n",
    "plt.title('Confusion Matrix')\n",
    "plt.xlabel('Predicted')\n",
    "plt.ylabel('Actual')\n",
    "plt.show()"
   ]
  },
  {
   "cell_type": "code",
   "execution_count": 88,
   "metadata": {
    "execution": {
     "iopub.execute_input": "2023-10-01T11:58:12.908565Z",
     "iopub.status.busy": "2023-10-01T11:58:12.907492Z",
     "iopub.status.idle": "2023-10-01T11:58:21.364092Z",
     "shell.execute_reply": "2023-10-01T11:58:21.362914Z",
     "shell.execute_reply.started": "2023-10-01T11:58:12.908515Z"
    }
   },
   "outputs": [
    {
     "name": "stderr",
     "output_type": "stream",
     "text": [
      "C:\\Users\\DELL-PC\\anaconda3\\lib\\site-packages\\sklearn\\neighbors\\_classification.py:198: DataConversionWarning: A column-vector y was passed when a 1d array was expected. Please change the shape of y to (n_samples,), for example using ravel().\n",
      "  return self._fit(X, y)\n"
     ]
    },
    {
     "name": "stdout",
     "output_type": "stream",
     "text": [
      "Accuracy: 0.854\n",
      "F1_Score: 0.851\n",
      "Recall_Score: 0.854\n",
      "Precision_Score: 0.85\n"
     ]
    },
    {
     "name": "stderr",
     "output_type": "stream",
     "text": [
      "C:\\Users\\DELL-PC\\anaconda3\\lib\\site-packages\\sklearn\\neighbors\\_classification.py:198: DataConversionWarning: A column-vector y was passed when a 1d array was expected. Please change the shape of y to (n_samples,), for example using ravel().\n",
      "  return self._fit(X, y)\n",
      "C:\\Users\\DELL-PC\\anaconda3\\lib\\site-packages\\sklearn\\neighbors\\_classification.py:198: DataConversionWarning: A column-vector y was passed when a 1d array was expected. Please change the shape of y to (n_samples,), for example using ravel().\n",
      "  return self._fit(X, y)\n",
      "C:\\Users\\DELL-PC\\anaconda3\\lib\\site-packages\\sklearn\\neighbors\\_classification.py:198: DataConversionWarning: A column-vector y was passed when a 1d array was expected. Please change the shape of y to (n_samples,), for example using ravel().\n",
      "  return self._fit(X, y)\n",
      "C:\\Users\\DELL-PC\\anaconda3\\lib\\site-packages\\sklearn\\neighbors\\_classification.py:198: DataConversionWarning: A column-vector y was passed when a 1d array was expected. Please change the shape of y to (n_samples,), for example using ravel().\n",
      "  return self._fit(X, y)\n",
      "C:\\Users\\DELL-PC\\anaconda3\\lib\\site-packages\\sklearn\\neighbors\\_classification.py:198: DataConversionWarning: A column-vector y was passed when a 1d array was expected. Please change the shape of y to (n_samples,), for example using ravel().\n",
      "  return self._fit(X, y)\n",
      "C:\\Users\\DELL-PC\\anaconda3\\lib\\site-packages\\sklearn\\neighbors\\_classification.py:198: DataConversionWarning: A column-vector y was passed when a 1d array was expected. Please change the shape of y to (n_samples,), for example using ravel().\n",
      "  return self._fit(X, y)\n"
     ]
    },
    {
     "name": "stdout",
     "output_type": "stream",
     "text": [
      "Cross Validation Score: 0.845967333603237\n",
      "                  precision    recall  f1-score   support\n",
      "\n",
      "Extremely Severe     0.9023    0.9487    0.9249       448\n",
      "            Mild     0.6823    0.6061    0.6419       457\n",
      "        Moderate     0.8203    0.8171    0.8187       771\n",
      "          Normal     0.8954    0.9616    0.9273      1095\n",
      "          Severe     0.8880    0.8256    0.8557       711\n",
      "\n",
      "        accuracy                         0.8535      3482\n",
      "       macro avg     0.8377    0.8318    0.8337      3482\n",
      "    weighted avg     0.8502    0.8535    0.8509      3482\n",
      "\n"
     ]
    },
    {
     "data": {
      "image/png": "[encoded data removed]",
      "text/plain": [
       "<Figure size 720x720 with 2 Axes>"
      ]
     },
     "metadata": {
      "needs_background": "light"
     },
     "output_type": "display_data"
    }
   ],
   "source": [
    "Knn=KNeighborsClassifier(n_neighbors=15).fit(X_train_scaled,y_train)\n",
    "acc_knn=round(accuracy_score(y_test,Knn.predict(X_test_scaled)),3)\n",
    "F1_knn=round(f1_score(y_test,Knn.predict(X_test_scaled),average='weighted'),3)\n",
    "prec_knn=round(precision_score(y_test,Knn.predict(X_test_scaled),average='weighted'),3)\n",
    "rec_knn=round(recall_score(y_test,Knn.predict(X_test_scaled),average='weighted'),3)\n",
    "print('Accuracy:',acc_knn)\n",
    "print('F1_Score:',F1_knn)\n",
    "print('Recall_Score:',rec_knn)\n",
    "print('Precision_Score:',prec_knn)\n",
    "print('Cross Validation Score:',(np.mean(cross_val_score(Knn, X_train_scaled, y_train, cv = 6))))\n",
    "classification=classification_report(\n",
    "    digits=4,\n",
    "    y_true=y_test,\n",
    "    y_pred=Knn.predict(X_test_scaled))\n",
    "print(classification)\n",
    "fig, ax = plt.subplots(figsize=(10, 10))\n",
    "im = ax.imshow(confusion, cmap=plt.cm.Blues)\n",
    "for i in range(len(confusion)):\n",
    "    for j in range(len(confusion[i])):\n",
    "        text = ax.text(j, i, str(confusion[i, j]),\n",
    "                       ha=\"center\", va=\"center\", color=\"black\")\n",
    "\n",
    "plt.colorbar(im)\n",
    "plt.title('Confusion Matrix')\n",
    "plt.xlabel('Predicted')\n",
    "plt.ylabel('Actual')\n",
    "plt.show()"
   ]
  },
  {
   "cell_type": "code",
   "execution_count": 89,
   "metadata": {
    "execution": {
     "iopub.execute_input": "2023-10-01T11:58:29.216781Z",
     "iopub.status.busy": "2023-10-01T11:58:29.216072Z",
     "iopub.status.idle": "2023-10-01T12:00:00.542635Z",
     "shell.execute_reply": "2023-10-01T12:00:00.541153Z",
     "shell.execute_reply.started": "2023-10-01T11:58:29.216747Z"
    }
   },
   "outputs": [
    {
     "name": "stderr",
     "output_type": "stream",
     "text": [
      "C:\\Users\\DELL-PC\\anaconda3\\lib\\site-packages\\sklearn\\utils\\validation.py:993: DataConversionWarning: A column-vector y was passed when a 1d array was expected. Please change the shape of y to (n_samples, ), for example using ravel().\n",
      "  y = column_or_1d(y, warn=True)\n"
     ]
    },
    {
     "name": "stdout",
     "output_type": "stream",
     "text": [
      "Accuracy: 0.996\n",
      "F1_Score: 0.996\n",
      "Recall_Score: 0.996\n",
      "Precision_Score: 0.996\n"
     ]
    },
    {
     "name": "stderr",
     "output_type": "stream",
     "text": [
      "C:\\Users\\DELL-PC\\anaconda3\\lib\\site-packages\\sklearn\\utils\\validation.py:993: DataConversionWarning: A column-vector y was passed when a 1d array was expected. Please change the shape of y to (n_samples, ), for example using ravel().\n",
      "  y = column_or_1d(y, warn=True)\n",
      "C:\\Users\\DELL-PC\\anaconda3\\lib\\site-packages\\sklearn\\utils\\validation.py:993: DataConversionWarning: A column-vector y was passed when a 1d array was expected. Please change the shape of y to (n_samples, ), for example using ravel().\n",
      "  y = column_or_1d(y, warn=True)\n",
      "C:\\Users\\DELL-PC\\anaconda3\\lib\\site-packages\\sklearn\\utils\\validation.py:993: DataConversionWarning: A column-vector y was passed when a 1d array was expected. Please change the shape of y to (n_samples, ), for example using ravel().\n",
      "  y = column_or_1d(y, warn=True)\n",
      "C:\\Users\\DELL-PC\\anaconda3\\lib\\site-packages\\sklearn\\utils\\validation.py:993: DataConversionWarning: A column-vector y was passed when a 1d array was expected. Please change the shape of y to (n_samples, ), for example using ravel().\n",
      "  y = column_or_1d(y, warn=True)\n",
      "C:\\Users\\DELL-PC\\anaconda3\\lib\\site-packages\\sklearn\\utils\\validation.py:993: DataConversionWarning: A column-vector y was passed when a 1d array was expected. Please change the shape of y to (n_samples, ), for example using ravel().\n",
      "  y = column_or_1d(y, warn=True)\n",
      "C:\\Users\\DELL-PC\\anaconda3\\lib\\site-packages\\sklearn\\utils\\validation.py:993: DataConversionWarning: A column-vector y was passed when a 1d array was expected. Please change the shape of y to (n_samples, ), for example using ravel().\n",
      "  y = column_or_1d(y, warn=True)\n"
     ]
    },
    {
     "name": "stdout",
     "output_type": "stream",
     "text": [
      "Cross Validation Score: 0.9976381301265135\n",
      "                  precision    recall  f1-score   support\n",
      "\n",
      "Extremely Severe     1.0000    1.0000    1.0000       448\n",
      "            Mild     0.9912    0.9912    0.9912       457\n",
      "        Moderate     0.9948    0.9896    0.9922       771\n",
      "          Normal     0.9982    1.0000    0.9991      1095\n",
      "          Severe     0.9944    0.9972    0.9958       711\n",
      "\n",
      "        accuracy                         0.9960      3482\n",
      "       macro avg     0.9957    0.9956    0.9957      3482\n",
      "    weighted avg     0.9960    0.9960    0.9960      3482\n",
      "\n"
     ]
    },
    {
     "data": {
      "image/png": "[encoded data removed]",
      "text/plain": [
       "<Figure size 720x720 with 2 Axes>"
      ]
     },
     "metadata": {
      "needs_background": "light"
     },
     "output_type": "display_data"
    }
   ],
   "source": [
    "Svm=SVC(C=10, gamma=0.01, kernel='sigmoid').fit(X_train_scaled,y_train)\n",
    "acc_svm=round(accuracy_score(y_test,Svm.predict(X_test_scaled)),3)\n",
    "F1_svm=round(f1_score(y_test,Svm.predict(X_test_scaled),average='weighted'),3)\n",
    "prec_svm=round(precision_score(y_test,Svm.predict(X_test_scaled),average='weighted'),3)\n",
    "rec_svm=round(recall_score(y_test,Svm.predict(X_test_scaled),average='weighted'),3)\n",
    "print('Accuracy:',acc_svm)\n",
    "print('F1_Score:',F1_svm)\n",
    "print('Recall_Score:',rec_svm)\n",
    "print('Precision_Score:',prec_svm)\n",
    "print('Cross Validation Score:',(np.mean(cross_val_score(Svm, X_train_scaled, y_train, cv = 6))))\n",
    "classification=classification_report(\n",
    "    digits=4,\n",
    "    y_true=y_test,\n",
    "    y_pred=Svm.predict(X_test_scaled))\n",
    "print(classification)\n",
    "fig, ax = plt.subplots(figsize=(10, 10))\n",
    "im = ax.imshow(confusion, cmap=plt.cm.Blues)\n",
    "for i in range(len(confusion)):\n",
    "    for j in range(len(confusion[i])):\n",
    "        text = ax.text(j, i, str(confusion[i, j]),\n",
    "                       ha=\"center\", va=\"center\", color=\"black\")\n",
    "\n",
    "plt.colorbar(im)\n",
    "plt.title('Confusion Matrix')\n",
    "plt.xlabel('Predicted')\n",
    "plt.ylabel('Actual')\n",
    "plt.show()"
   ]
  },
  {
   "cell_type": "code",
   "execution_count": 90,
   "metadata": {
    "execution": {
     "iopub.execute_input": "2023-10-01T12:00:07.412868Z",
     "iopub.status.busy": "2023-10-01T12:00:07.412079Z",
     "iopub.status.idle": "2023-10-01T12:00:07.420731Z",
     "shell.execute_reply": "2023-10-01T12:00:07.419580Z",
     "shell.execute_reply.started": "2023-10-01T12:00:07.412833Z"
    }
   },
   "outputs": [],
   "source": [
    "Result_1={\n",
    "                  'Model':['Random-Forest','Decision-Tree','GaussianNB','Nearest-Neighbors','SVM'],\n",
    "                  'Accuracy(%)':[acc_ran*100,acc_dt*100,acc_gb*100,acc_knn*100,acc_svm*100],\n",
    "                  'F1_Score(%)':[F1_ran*100,F1_dt*100,F1_gb*100,F1_knn*100,F1_svm*100],\n",
    "                  'Precision(%)':[prec_ran*100,prec_dt*100,prec_gb*100,prec_knn*100,prec_svm*100],\n",
    "                  'Recall(%)':[rec_ran*100,rec_dt*100,rec_gb*100,rec_knn*100,rec_svm*100]\n",
    "                    }\n",
    "Result_Stress=pd.DataFrame(Result_1)"
   ]
  },
  {
   "cell_type": "code",
   "execution_count": 91,
   "metadata": {
    "execution": {
     "iopub.execute_input": "2023-10-01T12:00:09.602554Z",
     "iopub.status.busy": "2023-10-01T12:00:09.601300Z",
     "iopub.status.idle": "2023-10-01T12:00:09.652098Z",
     "shell.execute_reply": "2023-10-01T12:00:09.650855Z",
     "shell.execute_reply.started": "2023-10-01T12:00:09.602506Z"
    }
   },
   "outputs": [],
   "source": [
    "scaler=MinMaxScaler()\n",
    "X=Anxiety[['Q2A', 'Q4A', 'Q7A', 'Q9A', 'Q15A', 'Q19A', 'Q20A', 'Q23A', 'Q25A',\n",
    "       'Q28A', 'Q30A', 'Q36A', 'Q40A', 'Q41A',\n",
    "       'Extraverted-enthusiastic', 'Critical-quarrelsome',\n",
    "       'Dependable-self_disciplined', 'Anxious-easily upset',\n",
    "        'Open to new experiences-complex', 'Reserved-quiet', 'Sympathetic-warm',\n",
    "        'Disorganized-careless', 'Calm-emotionally_stable',\n",
    "        'Conventional-uncreative', 'education', 'urban', 'gender', 'engnat',\n",
    "        'screensize', 'uniquenetworklocation', 'hand', 'religion',\n",
    "        'orientation', 'race', 'voted', 'married', 'familysize',\n",
    "        'Age_Groups']]\n",
    "y=Anxiety[['Condition']]\n",
    "X_train,X_test,y_train,y_test=train_test_split(X,y,test_size=0.10,random_state=0)\n",
    "X_train_scaled = scaler.fit_transform(X_train)\n",
    "X_test_scaled = scaler.transform(X_test)"
   ]
  },
  {
   "cell_type": "code",
   "execution_count": 92,
   "metadata": {
    "execution": {
     "iopub.execute_input": "2023-10-01T12:00:11.881920Z",
     "iopub.status.busy": "2023-10-01T12:00:11.881522Z",
     "iopub.status.idle": "2023-10-01T12:00:45.207491Z",
     "shell.execute_reply": "2023-10-01T12:00:45.206404Z",
     "shell.execute_reply.started": "2023-10-01T12:00:11.881886Z"
    }
   },
   "outputs": [
    {
     "name": "stderr",
     "output_type": "stream",
     "text": [
      "C:\\Users\\DELL-PC\\AppData\\Local\\Temp\\ipykernel_13252\\2396259398.py:1: DataConversionWarning: A column-vector y was passed when a 1d array was expected. Please change the shape of y to (n_samples,), for example using ravel().\n",
      "  rand=RandomForestClassifier(criterion='entropy').fit(X_train_scaled,y_train)\n"
     ]
    },
    {
     "name": "stdout",
     "output_type": "stream",
     "text": [
      "Accuracy: 0.852\n",
      "F1_Score: 0.827\n",
      "Recall_Score: 0.84\n",
      "Precision_Score: 0.852\n"
     ]
    },
    {
     "name": "stderr",
     "output_type": "stream",
     "text": [
      "C:\\Users\\DELL-PC\\anaconda3\\lib\\site-packages\\sklearn\\model_selection\\_validation.py:680: DataConversionWarning: A column-vector y was passed when a 1d array was expected. Please change the shape of y to (n_samples,), for example using ravel().\n",
      "  estimator.fit(X_train, y_train, **fit_params)\n",
      "C:\\Users\\DELL-PC\\anaconda3\\lib\\site-packages\\sklearn\\model_selection\\_validation.py:680: DataConversionWarning: A column-vector y was passed when a 1d array was expected. Please change the shape of y to (n_samples,), for example using ravel().\n",
      "  estimator.fit(X_train, y_train, **fit_params)\n",
      "C:\\Users\\DELL-PC\\anaconda3\\lib\\site-packages\\sklearn\\model_selection\\_validation.py:680: DataConversionWarning: A column-vector y was passed when a 1d array was expected. Please change the shape of y to (n_samples,), for example using ravel().\n",
      "  estimator.fit(X_train, y_train, **fit_params)\n",
      "C:\\Users\\DELL-PC\\anaconda3\\lib\\site-packages\\sklearn\\model_selection\\_validation.py:680: DataConversionWarning: A column-vector y was passed when a 1d array was expected. Please change the shape of y to (n_samples,), for example using ravel().\n",
      "  estimator.fit(X_train, y_train, **fit_params)\n",
      "C:\\Users\\DELL-PC\\anaconda3\\lib\\site-packages\\sklearn\\model_selection\\_validation.py:680: DataConversionWarning: A column-vector y was passed when a 1d array was expected. Please change the shape of y to (n_samples,), for example using ravel().\n",
      "  estimator.fit(X_train, y_train, **fit_params)\n",
      "C:\\Users\\DELL-PC\\anaconda3\\lib\\site-packages\\sklearn\\model_selection\\_validation.py:680: DataConversionWarning: A column-vector y was passed when a 1d array was expected. Please change the shape of y to (n_samples,), for example using ravel().\n",
      "  estimator.fit(X_train, y_train, **fit_params)\n"
     ]
    },
    {
     "name": "stdout",
     "output_type": "stream",
     "text": [
      "Cross Validation Score: 0.853563499329875\n",
      "                  precision    recall  f1-score   support\n",
      "\n",
      "Extremely Severe     0.9245    0.9707    0.9471      1161\n",
      "            Mild     0.6389    0.0895    0.1570       257\n",
      "        Moderate     0.7294    0.8942    0.8035       624\n",
      "          Normal     0.8755    0.9889    0.9288       903\n",
      "          Severe     0.8235    0.6778    0.7436       537\n",
      "\n",
      "        accuracy                         0.8515      3482\n",
      "       macro avg     0.7984    0.7242    0.7160      3482\n",
      "    weighted avg     0.8402    0.8515    0.8269      3482\n",
      "\n"
     ]
    },
    {
     "data": {
      "image/png": "[encoded data removed]",
      "text/plain": [
       "<Figure size 720x720 with 2 Axes>"
      ]
     },
     "metadata": {
      "needs_background": "light"
     },
     "output_type": "display_data"
    }
   ],
   "source": [
    "rand=RandomForestClassifier(criterion='entropy').fit(X_train_scaled,y_train)\n",
    "accu_ran=round(accuracy_score(y_test,rand.predict(X_test_scaled)),3)\n",
    "f1_score_ran=round(f1_score(y_test,rand.predict(X_test_scaled),average='weighted'),3)\n",
    "Precision_ran=round(precision_score(y_test,rand.predict(X_test_scaled),average='weighted'),3)\n",
    "Recall_ran=round(recall_score(y_test,rand.predict(X_test_scaled),average='weighted'),3)\n",
    "print('Accuracy:',accu_ran)\n",
    "print('F1_Score:',f1_score_ran)\n",
    "print('Recall_Score:',Precision_ran)\n",
    "print('Precision_Score:',Recall_ran)\n",
    "print('Cross Validation Score:',(np.mean(cross_val_score(rand, X_train_scaled, y_train, cv = 6))))\n",
    "classification=classification_report(\n",
    "    digits=4,\n",
    "    y_true=y_test,\n",
    "    y_pred=rand.predict(X_test_scaled))\n",
    "print(classification)\n",
    "fig, ax = plt.subplots(figsize=(10, 10))\n",
    "im = ax.imshow(confusion, cmap=plt.cm.Blues)\n",
    "for i in range(len(confusion)):\n",
    "    for j in range(len(confusion[i])):\n",
    "        text = ax.text(j, i, str(confusion[i, j]),\n",
    "                       ha=\"center\", va=\"center\", color=\"black\")\n",
    "\n",
    "plt.colorbar(im)\n",
    "plt.title('Confusion Matrix')\n",
    "plt.xlabel('Predicted')\n",
    "plt.ylabel('Actual')\n",
    "plt.show()"
   ]
  },
  {
   "cell_type": "code",
   "execution_count": 93,
   "metadata": {
    "execution": {
     "iopub.execute_input": "2023-10-01T12:02:04.842565Z",
     "iopub.status.busy": "2023-10-01T12:02:04.841699Z",
     "iopub.status.idle": "2023-10-01T12:02:07.219501Z",
     "shell.execute_reply": "2023-10-01T12:02:07.218680Z",
     "shell.execute_reply.started": "2023-10-01T12:02:04.842522Z"
    }
   },
   "outputs": [
    {
     "name": "stdout",
     "output_type": "stream",
     "text": [
      "Accuracy: 0.734\n",
      "F1_Score: 0.733\n",
      "Recall_Score: 0.733\n",
      "Precision_Score: 0.734\n",
      "Cross Validation Score: 0.7374484281420233\n",
      "                  precision    recall  f1-score   support\n",
      "\n",
      "Extremely Severe     0.8638    0.8742    0.8690      1161\n",
      "            Mild     0.3926    0.3696    0.3808       257\n",
      "        Moderate     0.5873    0.6362    0.6108       624\n",
      "          Normal     0.8914    0.8726    0.8819       903\n",
      "          Severe     0.5168    0.4860    0.5010       537\n",
      "\n",
      "        accuracy                         0.7341      3482\n",
      "       macro avg     0.6504    0.6478    0.6487      3482\n",
      "    weighted avg     0.7331    0.7341    0.7333      3482\n",
      "\n"
     ]
    },
    {
     "data": {
      "image/png": "[encoded data removed]",
      "text/plain": [
       "<Figure size 720x720 with 2 Axes>"
      ]
     },
     "metadata": {
      "needs_background": "light"
     },
     "output_type": "display_data"
    }
   ],
   "source": [
    "Dt=DecisionTreeClassifier(criterion='entropy',max_depth=100,min_samples_leaf=9,min_samples_split=3).fit(X_train_scaled,y_train)\n",
    "accu_dt=round(accuracy_score(y_test,Dt.predict(X_test_scaled)),3)\n",
    "f1_score_dt=round(f1_score(y_test,Dt.predict(X_test_scaled),average='weighted'),3)\n",
    "Precision_dt=round(precision_score(y_test,Dt.predict(X_test_scaled),average='weighted'),3)\n",
    "Recall_dt=round(recall_score(y_test,Dt.predict(X_test_scaled),average='weighted'),3)\n",
    "print('Accuracy:',accu_dt)\n",
    "print('F1_Score:',f1_score_dt)\n",
    "print('Recall_Score:',Precision_dt)\n",
    "print('Precision_Score:',Recall_dt)\n",
    "print('Cross Validation Score:',(np.mean(cross_val_score(Dt, X_train_scaled, y_train, cv = 6))))\n",
    "classification=classification_report(\n",
    "    digits=4,\n",
    "    y_true=y_test,\n",
    "    y_pred=Dt.predict(X_test_scaled))\n",
    "print(classification)\n",
    "fig, ax = plt.subplots(figsize=(10, 10))\n",
    "im = ax.imshow(confusion, cmap=plt.cm.Blues)\n",
    "for i in range(len(confusion)):\n",
    "    for j in range(len(confusion[i])):\n",
    "        text = ax.text(j, i, str(confusion[i, j]),\n",
    "                       ha=\"center\", va=\"center\", color=\"black\")\n",
    "\n",
    "plt.colorbar(im)\n",
    "plt.title('Confusion Matrix')\n",
    "plt.xlabel('Predicted')\n",
    "plt.ylabel('Actual')\n",
    "plt.show()"
   ]
  },
  {
   "cell_type": "code",
   "execution_count": 94,
   "metadata": {
    "execution": {
     "iopub.execute_input": "2023-10-01T12:02:18.026161Z",
     "iopub.status.busy": "2023-10-01T12:02:18.025150Z",
     "iopub.status.idle": "2023-10-01T12:02:19.152715Z",
     "shell.execute_reply": "2023-10-01T12:02:19.151929Z",
     "shell.execute_reply.started": "2023-10-01T12:02:18.026124Z"
    }
   },
   "outputs": [
    {
     "name": "stderr",
     "output_type": "stream",
     "text": [
      "C:\\Users\\DELL-PC\\anaconda3\\lib\\site-packages\\sklearn\\utils\\validation.py:993: DataConversionWarning: A column-vector y was passed when a 1d array was expected. Please change the shape of y to (n_samples, ), for example using ravel().\n",
      "  y = column_or_1d(y, warn=True)\n"
     ]
    },
    {
     "name": "stdout",
     "output_type": "stream",
     "text": [
      "Accuracy: 0.816\n",
      "F1_Score: 0.824\n",
      "Recall_Score: 0.843\n",
      "Precision_Score: 0.816\n"
     ]
    },
    {
     "name": "stderr",
     "output_type": "stream",
     "text": [
      "C:\\Users\\DELL-PC\\anaconda3\\lib\\site-packages\\sklearn\\utils\\validation.py:993: DataConversionWarning: A column-vector y was passed when a 1d array was expected. Please change the shape of y to (n_samples, ), for example using ravel().\n",
      "  y = column_or_1d(y, warn=True)\n",
      "C:\\Users\\DELL-PC\\anaconda3\\lib\\site-packages\\sklearn\\utils\\validation.py:993: DataConversionWarning: A column-vector y was passed when a 1d array was expected. Please change the shape of y to (n_samples, ), for example using ravel().\n",
      "  y = column_or_1d(y, warn=True)\n",
      "C:\\Users\\DELL-PC\\anaconda3\\lib\\site-packages\\sklearn\\utils\\validation.py:993: DataConversionWarning: A column-vector y was passed when a 1d array was expected. Please change the shape of y to (n_samples, ), for example using ravel().\n",
      "  y = column_or_1d(y, warn=True)\n",
      "C:\\Users\\DELL-PC\\anaconda3\\lib\\site-packages\\sklearn\\utils\\validation.py:993: DataConversionWarning: A column-vector y was passed when a 1d array was expected. Please change the shape of y to (n_samples, ), for example using ravel().\n",
      "  y = column_or_1d(y, warn=True)\n",
      "C:\\Users\\DELL-PC\\anaconda3\\lib\\site-packages\\sklearn\\utils\\validation.py:993: DataConversionWarning: A column-vector y was passed when a 1d array was expected. Please change the shape of y to (n_samples, ), for example using ravel().\n",
      "  y = column_or_1d(y, warn=True)\n",
      "C:\\Users\\DELL-PC\\anaconda3\\lib\\site-packages\\sklearn\\utils\\validation.py:993: DataConversionWarning: A column-vector y was passed when a 1d array was expected. Please change the shape of y to (n_samples, ), for example using ravel().\n",
      "  y = column_or_1d(y, warn=True)\n"
     ]
    },
    {
     "name": "stdout",
     "output_type": "stream",
     "text": [
      "Cross Validation Score: 0.810794487140862\n",
      "                  precision    recall  f1-score   support\n",
      "\n",
      "Extremely Severe     0.9878    0.8338    0.9043      1161\n",
      "            Mild     0.4800    0.5136    0.4962       257\n",
      "        Moderate     0.7205    0.8429    0.7770       624\n",
      "          Normal     0.9701    0.8616    0.9126       903\n",
      "          Severe     0.6302    0.8156    0.7110       537\n",
      "\n",
      "        accuracy                         0.8162      3482\n",
      "       macro avg     0.7577    0.7735    0.7602      3482\n",
      "    weighted avg     0.8427    0.8162    0.8237      3482\n",
      "\n"
     ]
    },
    {
     "data": {
      "image/png": "[encoded data removed]",
      "text/plain": [
       "<Figure size 720x720 with 2 Axes>"
      ]
     },
     "metadata": {
      "needs_background": "light"
     },
     "output_type": "display_data"
    }
   ],
   "source": [
    "GB=GaussianNB().fit(X_train_scaled,y_train)\n",
    "accu_gb=round(accuracy_score(y_test,GB.predict(X_test_scaled)),3)\n",
    "f1_score_gb=round(f1_score(y_test,GB.predict(X_test_scaled),average='weighted'),3)\n",
    "Precision_gb=round(precision_score(y_test,GB.predict(X_test_scaled),average='weighted'),3)\n",
    "Recall_gb=round(recall_score(y_test,GB.predict(X_test_scaled),average='weighted'),3)\n",
    "print('Accuracy:',accu_gb)\n",
    "print('F1_Score:',f1_score_gb)\n",
    "print('Recall_Score:',Precision_gb)\n",
    "print('Precision_Score:',Recall_gb)\n",
    "print('Cross Validation Score:',(np.mean(cross_val_score(GB, X_train_scaled, y_train, cv = 6))))\n",
    "classification=classification_report(\n",
    "    digits=4,\n",
    "    y_true=y_test,\n",
    "    y_pred=GB.predict(X_test_scaled))\n",
    "print(classification)\n",
    "fig, ax = plt.subplots(figsize=(10, 10))\n",
    "im = ax.imshow(confusion, cmap=plt.cm.Blues)\n",
    "for i in range(len(confusion)):\n",
    "    for j in range(len(confusion[i])):\n",
    "        text = ax.text(j, i, str(confusion[i, j]),\n",
    "                       ha=\"center\", va=\"center\", color=\"black\")\n",
    "\n",
    "plt.colorbar(im)\n",
    "plt.title('Confusion Matrix')\n",
    "plt.xlabel('Predicted')\n",
    "plt.ylabel('Actual')\n",
    "plt.show()"
   ]
  },
  {
   "cell_type": "code",
   "execution_count": 95,
   "metadata": {
    "execution": {
     "iopub.execute_input": "2023-10-01T12:02:21.838023Z",
     "iopub.status.busy": "2023-10-01T12:02:21.837374Z",
     "iopub.status.idle": "2023-10-01T12:02:28.384610Z",
     "shell.execute_reply": "2023-10-01T12:02:28.383513Z",
     "shell.execute_reply.started": "2023-10-01T12:02:21.837988Z"
    }
   },
   "outputs": [
    {
     "name": "stderr",
     "output_type": "stream",
     "text": [
      "C:\\Users\\DELL-PC\\anaconda3\\lib\\site-packages\\sklearn\\neighbors\\_classification.py:198: DataConversionWarning: A column-vector y was passed when a 1d array was expected. Please change the shape of y to (n_samples,), for example using ravel().\n",
      "  return self._fit(X, y)\n"
     ]
    },
    {
     "name": "stdout",
     "output_type": "stream",
     "text": [
      "Accuracy: 0.791\n",
      "F1_Score: 0.765\n",
      "Recall_Score: 0.772\n",
      "Precision_Score: 0.791\n"
     ]
    },
    {
     "name": "stderr",
     "output_type": "stream",
     "text": [
      "C:\\Users\\DELL-PC\\anaconda3\\lib\\site-packages\\sklearn\\neighbors\\_classification.py:198: DataConversionWarning: A column-vector y was passed when a 1d array was expected. Please change the shape of y to (n_samples,), for example using ravel().\n",
      "  return self._fit(X, y)\n",
      "C:\\Users\\DELL-PC\\anaconda3\\lib\\site-packages\\sklearn\\neighbors\\_classification.py:198: DataConversionWarning: A column-vector y was passed when a 1d array was expected. Please change the shape of y to (n_samples,), for example using ravel().\n",
      "  return self._fit(X, y)\n",
      "C:\\Users\\DELL-PC\\anaconda3\\lib\\site-packages\\sklearn\\neighbors\\_classification.py:198: DataConversionWarning: A column-vector y was passed when a 1d array was expected. Please change the shape of y to (n_samples,), for example using ravel().\n",
      "  return self._fit(X, y)\n",
      "C:\\Users\\DELL-PC\\anaconda3\\lib\\site-packages\\sklearn\\neighbors\\_classification.py:198: DataConversionWarning: A column-vector y was passed when a 1d array was expected. Please change the shape of y to (n_samples,), for example using ravel().\n",
      "  return self._fit(X, y)\n",
      "C:\\Users\\DELL-PC\\anaconda3\\lib\\site-packages\\sklearn\\neighbors\\_classification.py:198: DataConversionWarning: A column-vector y was passed when a 1d array was expected. Please change the shape of y to (n_samples,), for example using ravel().\n",
      "  return self._fit(X, y)\n",
      "C:\\Users\\DELL-PC\\anaconda3\\lib\\site-packages\\sklearn\\neighbors\\_classification.py:198: DataConversionWarning: A column-vector y was passed when a 1d array was expected. Please change the shape of y to (n_samples,), for example using ravel().\n",
      "  return self._fit(X, y)\n"
     ]
    },
    {
     "name": "stdout",
     "output_type": "stream",
     "text": [
      "Cross Validation Score: 0.7974212169852019\n",
      "                  precision    recall  f1-score   support\n",
      "\n",
      "Extremely Severe     0.9512    0.9406    0.9459      1161\n",
      "            Mild     0.3750    0.0700    0.1180       257\n",
      "        Moderate     0.6625    0.7580    0.7070       624\n",
      "          Normal     0.7436    0.9989    0.8526       903\n",
      "          Severe     0.7521    0.5028    0.6027       537\n",
      "\n",
      "        accuracy                         0.7912      3482\n",
      "       macro avg     0.6969    0.6541    0.6452      3482\n",
      "    weighted avg     0.7724    0.7912    0.7648      3482\n",
      "\n"
     ]
    },
    {
     "data": {
      "image/png": "[encoded data removed]",
      "text/plain": [
       "<Figure size 720x720 with 2 Axes>"
      ]
     },
     "metadata": {
      "needs_background": "light"
     },
     "output_type": "display_data"
    }
   ],
   "source": [
    "Knnr=KNeighborsClassifier(n_neighbors=19,weights='distance').fit(X_train_scaled,y_train)\n",
    "accu_knn=round(accuracy_score(y_test,Knnr.predict(X_test_scaled)),3)\n",
    "f1_score_knn=round(f1_score(y_test,Knnr.predict(X_test_scaled),average='weighted'),3)\n",
    "Precision_knn=round(precision_score(y_test,Knnr.predict(X_test_scaled),average='weighted'),3)\n",
    "Recall_knn=round(recall_score(y_test,Knnr.predict(X_test_scaled),average='weighted'),3)\n",
    "print('Accuracy:',accu_knn)\n",
    "print('F1_Score:',f1_score_knn)\n",
    "print('Recall_Score:',Precision_knn)\n",
    "print('Precision_Score:',Recall_knn)\n",
    "print('Cross Validation Score:',(np.mean(cross_val_score(Knnr, X_train_scaled, y_train, cv = 6))))\n",
    "classification=classification_report(\n",
    "    digits=4,\n",
    "    y_true=y_test,\n",
    "    y_pred=Knnr.predict(X_test_scaled))\n",
    "print(classification)\n",
    "fig, ax = plt.subplots(figsize=(10, 10))\n",
    "im = ax.imshow(confusion, cmap=plt.cm.Blues)\n",
    "for i in range(len(confusion)):\n",
    "    for j in range(len(confusion[i])):\n",
    "        text = ax.text(j, i, str(confusion[i, j]),\n",
    "                       ha=\"center\", va=\"center\", color=\"black\")\n",
    "\n",
    "plt.colorbar(im)\n",
    "plt.title('Confusion Matrix')\n",
    "plt.xlabel('Predicted')\n",
    "plt.ylabel('Actual')\n",
    "plt.show()"
   ]
  },
  {
   "cell_type": "code",
   "execution_count": 96,
   "metadata": {
    "execution": {
     "iopub.execute_input": "2023-10-01T12:02:32.058232Z",
     "iopub.status.busy": "2023-10-01T12:02:32.057101Z",
     "iopub.status.idle": "2023-10-01T12:03:53.422507Z",
     "shell.execute_reply": "2023-10-01T12:03:53.421370Z",
     "shell.execute_reply.started": "2023-10-01T12:02:32.058194Z"
    }
   },
   "outputs": [
    {
     "name": "stderr",
     "output_type": "stream",
     "text": [
      "C:\\Users\\DELL-PC\\anaconda3\\lib\\site-packages\\sklearn\\utils\\validation.py:993: DataConversionWarning: A column-vector y was passed when a 1d array was expected. Please change the shape of y to (n_samples, ), for example using ravel().\n",
      "  y = column_or_1d(y, warn=True)\n"
     ]
    },
    {
     "name": "stdout",
     "output_type": "stream",
     "text": [
      "Accuracy: 1.0\n",
      "F1_Score: 1.0\n",
      "Recall_Score: 1.0\n",
      "Precision_Score: 1.0\n"
     ]
    },
    {
     "name": "stderr",
     "output_type": "stream",
     "text": [
      "C:\\Users\\DELL-PC\\anaconda3\\lib\\site-packages\\sklearn\\utils\\validation.py:993: DataConversionWarning: A column-vector y was passed when a 1d array was expected. Please change the shape of y to (n_samples, ), for example using ravel().\n",
      "  y = column_or_1d(y, warn=True)\n",
      "C:\\Users\\DELL-PC\\anaconda3\\lib\\site-packages\\sklearn\\utils\\validation.py:993: DataConversionWarning: A column-vector y was passed when a 1d array was expected. Please change the shape of y to (n_samples, ), for example using ravel().\n",
      "  y = column_or_1d(y, warn=True)\n",
      "C:\\Users\\DELL-PC\\anaconda3\\lib\\site-packages\\sklearn\\utils\\validation.py:993: DataConversionWarning: A column-vector y was passed when a 1d array was expected. Please change the shape of y to (n_samples, ), for example using ravel().\n",
      "  y = column_or_1d(y, warn=True)\n",
      "C:\\Users\\DELL-PC\\anaconda3\\lib\\site-packages\\sklearn\\utils\\validation.py:993: DataConversionWarning: A column-vector y was passed when a 1d array was expected. Please change the shape of y to (n_samples, ), for example using ravel().\n",
      "  y = column_or_1d(y, warn=True)\n",
      "C:\\Users\\DELL-PC\\anaconda3\\lib\\site-packages\\sklearn\\utils\\validation.py:993: DataConversionWarning: A column-vector y was passed when a 1d array was expected. Please change the shape of y to (n_samples, ), for example using ravel().\n",
      "  y = column_or_1d(y, warn=True)\n",
      "C:\\Users\\DELL-PC\\anaconda3\\lib\\site-packages\\sklearn\\utils\\validation.py:993: DataConversionWarning: A column-vector y was passed when a 1d array was expected. Please change the shape of y to (n_samples, ), for example using ravel().\n",
      "  y = column_or_1d(y, warn=True)\n"
     ]
    },
    {
     "name": "stdout",
     "output_type": "stream",
     "text": [
      "Cross Validation Score: 1.0\n",
      "                  precision    recall  f1-score   support\n",
      "\n",
      "Extremely Severe     1.0000    1.0000    1.0000      1161\n",
      "            Mild     1.0000    1.0000    1.0000       257\n",
      "        Moderate     1.0000    1.0000    1.0000       624\n",
      "          Normal     1.0000    1.0000    1.0000       903\n",
      "          Severe     1.0000    1.0000    1.0000       537\n",
      "\n",
      "        accuracy                         1.0000      3482\n",
      "       macro avg     1.0000    1.0000    1.0000      3482\n",
      "    weighted avg     1.0000    1.0000    1.0000      3482\n",
      "\n"
     ]
    },
    {
     "data": {
      "image/png": "[encoded data removed]",
      "text/plain": [
       "<Figure size 720x720 with 2 Axes>"
      ]
     },
     "metadata": {
      "needs_background": "light"
     },
     "output_type": "display_data"
    }
   ],
   "source": [
    "Svmc=SVC(C=10,gamma=0.1,kernel='rbf').fit(X_train_scaled,y_train)\n",
    "accu_svm=round(accuracy_score(y_test,Svmc.predict(X_test_scaled)),3)\n",
    "f1_score_svm=round(f1_score(y_test,Svmc.predict(X_test_scaled),average='weighted'),3)\n",
    "Precision_svm=round(precision_score(y_test,Svmc.predict(X_test_scaled),average='weighted'),3)\n",
    "Recall_svm=round(recall_score(y_test,Svmc.predict(X_test_scaled),average='weighted'),3)\n",
    "print('Accuracy:',accu_svm)\n",
    "print('F1_Score:',f1_score_svm)\n",
    "print('Recall_Score:',Precision_svm)\n",
    "print('Precision_Score:',Recall_svm)\n",
    "print('Cross Validation Score:',(np.mean(cross_val_score(Svmc, X_train_scaled, y_train, cv = 6))))\n",
    "classification=classification_report(\n",
    "    digits=4,\n",
    "    y_true=y_test,\n",
    "    y_pred=Svmc.predict(X_test_scaled))\n",
    "print(classification)\n",
    "fig, ax = plt.subplots(figsize=(10, 10))\n",
    "im = ax.imshow(confusion, cmap=plt.cm.Blues)\n",
    "for i in range(len(confusion)):\n",
    "    for j in range(len(confusion[i])):\n",
    "        text = ax.text(j, i, str(confusion[i, j]),\n",
    "                       ha=\"center\", va=\"center\", color=\"black\")\n",
    "\n",
    "plt.colorbar(im)\n",
    "plt.title('Confusion Matrix')\n",
    "plt.xlabel('Predicted')\n",
    "plt.ylabel('Actual')\n",
    "plt.show()"
   ]
  },
  {
   "cell_type": "code",
   "execution_count": 97,
   "metadata": {
    "execution": {
     "iopub.execute_input": "2023-10-01T12:03:53.425831Z",
     "iopub.status.busy": "2023-10-01T12:03:53.424954Z",
     "iopub.status.idle": "2023-10-01T12:03:53.433289Z",
     "shell.execute_reply": "2023-10-01T12:03:53.432381Z",
     "shell.execute_reply.started": "2023-10-01T12:03:53.425783Z"
    }
   },
   "outputs": [],
   "source": [
    "Result_2={\n",
    "                  'Model':['Random-Forest','Decision-Tree','GaussianNB','Nearest-Neighbors','SVM'],\n",
    "                  'Accuracy(%)':[accu_ran*100,accu_dt*100,accu_gb*100,accu_knn*100,accu_svm*100],\n",
    "                  'F1_Score(%)':[f1_score_ran*100,f1_score_dt*100,f1_score_gb*100,f1_score_knn*100,f1_score_svm*100],\n",
    "                  'Precision(%)':[Precision_ran*100,Precision_dt*100,Precision_gb*100,Precision_knn*100,Precision_svm*100],\n",
    "                  'Recall(%)':[Recall_ran*100,Recall_dt*100,Recall_gb*100,Recall_knn*100,Recall_svm*100]\n",
    "        \n",
    "                    }\n",
    "Result_Anxiety=pd.DataFrame(Result_2)"
   ]
  },
  {
   "cell_type": "code",
   "execution_count": 98,
   "metadata": {
    "execution": {
     "iopub.execute_input": "2023-10-01T12:04:00.887928Z",
     "iopub.status.busy": "2023-10-01T12:04:00.887518Z",
     "iopub.status.idle": "2023-10-01T12:04:00.902148Z",
     "shell.execute_reply": "2023-10-01T12:04:00.900796Z",
     "shell.execute_reply.started": "2023-10-01T12:04:00.887900Z"
    }
   },
   "outputs": [
    {
     "data": {
      "text/html": [
       "<div>\n",
       "<style scoped>\n",
       "    .dataframe tbody tr th:only-of-type {\n",
       "        vertical-align: middle;\n",
       "    }\n",
       "\n",
       "    .dataframe tbody tr th {\n",
       "        vertical-align: top;\n",
       "    }\n",
       "\n",
       "    .dataframe thead th {\n",
       "        text-align: right;\n",
       "    }\n",
       "</style>\n",
       "<table border=\"1\" class=\"dataframe\">\n",
       "  <thead>\n",
       "    <tr style=\"text-align: right;\">\n",
       "      <th></th>\n",
       "      <th>Model</th>\n",
       "      <th>Accuracy(%)</th>\n",
       "      <th>F1_Score(%)</th>\n",
       "      <th>Precision(%)</th>\n",
       "      <th>Recall(%)</th>\n",
       "    </tr>\n",
       "  </thead>\n",
       "  <tbody>\n",
       "    <tr>\n",
       "      <th>0</th>\n",
       "      <td>Random-Forest</td>\n",
       "      <td>92.7</td>\n",
       "      <td>92.5</td>\n",
       "      <td>92.6</td>\n",
       "      <td>92.7</td>\n",
       "    </tr>\n",
       "    <tr>\n",
       "      <th>1</th>\n",
       "      <td>Decision-Tree</td>\n",
       "      <td>81.6</td>\n",
       "      <td>81.6</td>\n",
       "      <td>81.7</td>\n",
       "      <td>81.6</td>\n",
       "    </tr>\n",
       "    <tr>\n",
       "      <th>2</th>\n",
       "      <td>GaussianNB</td>\n",
       "      <td>88.1</td>\n",
       "      <td>88.5</td>\n",
       "      <td>89.7</td>\n",
       "      <td>88.1</td>\n",
       "    </tr>\n",
       "    <tr>\n",
       "      <th>3</th>\n",
       "      <td>Nearest-Neighbors</td>\n",
       "      <td>87.2</td>\n",
       "      <td>86.6</td>\n",
       "      <td>87.4</td>\n",
       "      <td>87.2</td>\n",
       "    </tr>\n",
       "    <tr>\n",
       "      <th>4</th>\n",
       "      <td>SVM</td>\n",
       "      <td>100.0</td>\n",
       "      <td>100.0</td>\n",
       "      <td>100.0</td>\n",
       "      <td>100.0</td>\n",
       "    </tr>\n",
       "  </tbody>\n",
       "</table>\n",
       "</div>"
      ],
      "text/plain": [
       "               Model  Accuracy(%)  F1_Score(%)  Precision(%)  Recall(%)\n",
       "0      Random-Forest         92.7         92.5          92.6       92.7\n",
       "1      Decision-Tree         81.6         81.6          81.7       81.6\n",
       "2         GaussianNB         88.1         88.5          89.7       88.1\n",
       "3  Nearest-Neighbors         87.2         86.6          87.4       87.2\n",
       "4                SVM        100.0        100.0         100.0      100.0"
      ]
     },
     "execution_count": 98,
     "metadata": {},
     "output_type": "execute_result"
    }
   ],
   "source": [
    "Result_Depression"
   ]
  },
  {
   "cell_type": "code",
   "execution_count": 99,
   "metadata": {
    "execution": {
     "iopub.execute_input": "2023-10-01T12:04:03.701236Z",
     "iopub.status.busy": "2023-10-01T12:04:03.700782Z",
     "iopub.status.idle": "2023-10-01T12:04:03.716367Z",
     "shell.execute_reply": "2023-10-01T12:04:03.715012Z",
     "shell.execute_reply.started": "2023-10-01T12:04:03.701201Z"
    }
   },
   "outputs": [
    {
     "data": {
      "text/html": [
       "<div>\n",
       "<style scoped>\n",
       "    .dataframe tbody tr th:only-of-type {\n",
       "        vertical-align: middle;\n",
       "    }\n",
       "\n",
       "    .dataframe tbody tr th {\n",
       "        vertical-align: top;\n",
       "    }\n",
       "\n",
       "    .dataframe thead th {\n",
       "        text-align: right;\n",
       "    }\n",
       "</style>\n",
       "<table border=\"1\" class=\"dataframe\">\n",
       "  <thead>\n",
       "    <tr style=\"text-align: right;\">\n",
       "      <th></th>\n",
       "      <th>Model</th>\n",
       "      <th>Accuracy(%)</th>\n",
       "      <th>F1_Score(%)</th>\n",
       "      <th>Precision(%)</th>\n",
       "      <th>Recall(%)</th>\n",
       "    </tr>\n",
       "  </thead>\n",
       "  <tbody>\n",
       "    <tr>\n",
       "      <th>0</th>\n",
       "      <td>Random-Forest</td>\n",
       "      <td>88.7</td>\n",
       "      <td>88.4</td>\n",
       "      <td>88.8</td>\n",
       "      <td>88.7</td>\n",
       "    </tr>\n",
       "    <tr>\n",
       "      <th>1</th>\n",
       "      <td>Decision-Tree</td>\n",
       "      <td>74.8</td>\n",
       "      <td>74.8</td>\n",
       "      <td>74.8</td>\n",
       "      <td>74.8</td>\n",
       "    </tr>\n",
       "    <tr>\n",
       "      <th>2</th>\n",
       "      <td>GaussianNB</td>\n",
       "      <td>85.8</td>\n",
       "      <td>86.2</td>\n",
       "      <td>87.4</td>\n",
       "      <td>85.8</td>\n",
       "    </tr>\n",
       "    <tr>\n",
       "      <th>3</th>\n",
       "      <td>Nearest-Neighbors</td>\n",
       "      <td>85.4</td>\n",
       "      <td>85.1</td>\n",
       "      <td>85.0</td>\n",
       "      <td>85.4</td>\n",
       "    </tr>\n",
       "    <tr>\n",
       "      <th>4</th>\n",
       "      <td>SVM</td>\n",
       "      <td>99.6</td>\n",
       "      <td>99.6</td>\n",
       "      <td>99.6</td>\n",
       "      <td>99.6</td>\n",
       "    </tr>\n",
       "  </tbody>\n",
       "</table>\n",
       "</div>"
      ],
      "text/plain": [
       "               Model  Accuracy(%)  F1_Score(%)  Precision(%)  Recall(%)\n",
       "0      Random-Forest         88.7         88.4          88.8       88.7\n",
       "1      Decision-Tree         74.8         74.8          74.8       74.8\n",
       "2         GaussianNB         85.8         86.2          87.4       85.8\n",
       "3  Nearest-Neighbors         85.4         85.1          85.0       85.4\n",
       "4                SVM         99.6         99.6          99.6       99.6"
      ]
     },
     "execution_count": 99,
     "metadata": {},
     "output_type": "execute_result"
    }
   ],
   "source": [
    "Result_Stress"
   ]
  },
  {
   "cell_type": "code",
   "execution_count": 100,
   "metadata": {
    "execution": {
     "iopub.execute_input": "2023-10-01T12:04:06.263914Z",
     "iopub.status.busy": "2023-10-01T12:04:06.263482Z",
     "iopub.status.idle": "2023-10-01T12:04:06.277944Z",
     "shell.execute_reply": "2023-10-01T12:04:06.276819Z",
     "shell.execute_reply.started": "2023-10-01T12:04:06.263883Z"
    }
   },
   "outputs": [
    {
     "data": {
      "text/html": [
       "<div>\n",
       "<style scoped>\n",
       "    .dataframe tbody tr th:only-of-type {\n",
       "        vertical-align: middle;\n",
       "    }\n",
       "\n",
       "    .dataframe tbody tr th {\n",
       "        vertical-align: top;\n",
       "    }\n",
       "\n",
       "    .dataframe thead th {\n",
       "        text-align: right;\n",
       "    }\n",
       "</style>\n",
       "<table border=\"1\" class=\"dataframe\">\n",
       "  <thead>\n",
       "    <tr style=\"text-align: right;\">\n",
       "      <th></th>\n",
       "      <th>Model</th>\n",
       "      <th>Accuracy(%)</th>\n",
       "      <th>F1_Score(%)</th>\n",
       "      <th>Precision(%)</th>\n",
       "      <th>Recall(%)</th>\n",
       "    </tr>\n",
       "  </thead>\n",
       "  <tbody>\n",
       "    <tr>\n",
       "      <th>0</th>\n",
       "      <td>Random-Forest</td>\n",
       "      <td>85.2</td>\n",
       "      <td>82.7</td>\n",
       "      <td>84.0</td>\n",
       "      <td>85.2</td>\n",
       "    </tr>\n",
       "    <tr>\n",
       "      <th>1</th>\n",
       "      <td>Decision-Tree</td>\n",
       "      <td>73.4</td>\n",
       "      <td>73.3</td>\n",
       "      <td>73.3</td>\n",
       "      <td>73.4</td>\n",
       "    </tr>\n",
       "    <tr>\n",
       "      <th>2</th>\n",
       "      <td>GaussianNB</td>\n",
       "      <td>81.6</td>\n",
       "      <td>82.4</td>\n",
       "      <td>84.3</td>\n",
       "      <td>81.6</td>\n",
       "    </tr>\n",
       "    <tr>\n",
       "      <th>3</th>\n",
       "      <td>Nearest-Neighbors</td>\n",
       "      <td>79.1</td>\n",
       "      <td>76.5</td>\n",
       "      <td>77.2</td>\n",
       "      <td>79.1</td>\n",
       "    </tr>\n",
       "    <tr>\n",
       "      <th>4</th>\n",
       "      <td>SVM</td>\n",
       "      <td>100.0</td>\n",
       "      <td>100.0</td>\n",
       "      <td>100.0</td>\n",
       "      <td>100.0</td>\n",
       "    </tr>\n",
       "  </tbody>\n",
       "</table>\n",
       "</div>"
      ],
      "text/plain": [
       "               Model  Accuracy(%)  F1_Score(%)  Precision(%)  Recall(%)\n",
       "0      Random-Forest         85.2         82.7          84.0       85.2\n",
       "1      Decision-Tree         73.4         73.3          73.3       73.4\n",
       "2         GaussianNB         81.6         82.4          84.3       81.6\n",
       "3  Nearest-Neighbors         79.1         76.5          77.2       79.1\n",
       "4                SVM        100.0        100.0         100.0      100.0"
      ]
     },
     "execution_count": 100,
     "metadata": {},
     "output_type": "execute_result"
    }
   ],
   "source": [
    "Result_Anxiety"
   ]
  },
  {
   "cell_type": "code",
   "execution_count": 101,
   "metadata": {
    "execution": {
     "iopub.execute_input": "2023-10-01T12:06:24.584990Z",
     "iopub.status.busy": "2023-10-01T12:06:24.584531Z",
     "iopub.status.idle": "2023-10-01T12:06:25.004061Z",
     "shell.execute_reply": "2023-10-01T12:06:25.002873Z",
     "shell.execute_reply.started": "2023-10-01T12:06:24.584959Z"
    }
   },
   "outputs": [
    {
     "data": {
      "image/png": "[encoded data removed]",
      "text/plain": [
       "<Figure size 1080x720 with 1 Axes>"
      ]
     },
     "metadata": {
      "needs_background": "light"
     },
     "output_type": "display_data"
    }
   ],
   "source": [
    "splot=Result_Depression.plot(x='Model',y=['Accuracy(%)','F1_Score(%)','Precision(%)','Recall(%)'],kind='bar',figsize=(15,10),cmap='Spectral',width=0.9)\n",
    "for p in splot.patches:\n",
    "    splot.annotate(format(round(p.get_height()), '.0f'),\n",
    "                   (p.get_x() + p.get_width() / 2., p.get_height()),\n",
    "                   ha='center', va='center',\n",
    "                   xytext=(0,7),\n",
    "                   textcoords='offset points')\n",
    "plt.title('Evaluation Scores For Depression Data for various Models')\n",
    "plt.ylabel('Percentage')\n",
    "plt.xlabel('Models')\n",
    "plt.legend(loc='upper left')\n",
    "for pos in ['right', 'top', 'bottom', 'left']:\n",
    "    plt.gca().spines[pos].set_visible(False)\n",
    "plt.show()"
   ]
  },
  {
   "cell_type": "code",
   "execution_count": 102,
   "metadata": {
    "execution": {
     "iopub.execute_input": "2023-10-01T12:06:30.919810Z",
     "iopub.status.busy": "2023-10-01T12:06:30.919039Z",
     "iopub.status.idle": "2023-10-01T12:06:31.347946Z",
     "shell.execute_reply": "2023-10-01T12:06:31.346616Z",
     "shell.execute_reply.started": "2023-10-01T12:06:30.919771Z"
    }
   },
   "outputs": [
    {
     "data": {
      "image/png": "[encoded data removed]",
      "text/plain": [
       "<Figure size 1080x720 with 1 Axes>"
      ]
     },
     "metadata": {
      "needs_background": "light"
     },
     "output_type": "display_data"
    }
   ],
   "source": [
    "slot=Result_Stress.plot(x='Model',y=['Accuracy(%)','F1_Score(%)','Precision(%)','Recall(%)'],kind='bar',figsize=(15,10),width=0.9)\n",
    "for p in slot.patches:\n",
    "    slot.annotate(format(round(p.get_height()), '.0f'),\n",
    "                   (p.get_x() + p.get_width() / 2., p.get_height()),\n",
    "                   ha='center', va='center',\n",
    "                   xytext=(0, 7),\n",
    "                   textcoords='offset points')\n",
    "plt.title('Evaluation Scores For Stress Data for various Models')\n",
    "plt.ylabel('Percentage')\n",
    "plt.xlabel('Models')\n",
    "for pos in ['right', 'top', 'bottom', 'left']:\n",
    "    plt.gca().spines[pos].set_visible(False)\n",
    "plt.show()"
   ]
  },
  {
   "cell_type": "code",
   "execution_count": 103,
   "metadata": {
    "execution": {
     "iopub.execute_input": "2023-10-01T12:06:34.226079Z",
     "iopub.status.busy": "2023-10-01T12:06:34.224731Z",
     "iopub.status.idle": "2023-10-01T12:06:34.646770Z",
     "shell.execute_reply": "2023-10-01T12:06:34.645575Z",
     "shell.execute_reply.started": "2023-10-01T12:06:34.226038Z"
    }
   },
   "outputs": [
    {
     "data": {
      "image/png": "[encoded data removed]",
      "text/plain": [
       "<Figure size 1080x720 with 1 Axes>"
      ]
     },
     "metadata": {
      "needs_background": "light"
     },
     "output_type": "display_data"
    }
   ],
   "source": [
    "slot=Result_Anxiety.plot(x='Model',y=['Accuracy(%)','F1_Score(%)','Precision(%)','Recall(%)'],kind='bar',figsize=(15,10),cmap='Accent',width=0.9)\n",
    "for p in slot.patches:\n",
    "    slot.annotate(format(round(p.get_height()), '.0f'),\n",
    "                   (p.get_x() + p.get_width() / 2., p.get_height()),\n",
    "                   ha='center', va='center',\n",
    "                   xytext=(0, 7),\n",
    "                   textcoords='offset points')\n",
    "plt.title('Evaluation Scores For Anxiety Data for various Models')\n",
    "plt.ylabel('Percentage')\n",
    "plt.xlabel('Models')\n",
    "for pos in ['right', 'top', 'bottom', 'left']:\n",
    "    plt.gca().spines[pos].set_visible(False)\n",
    "plt.show()"
   ]
  },
  {
   "cell_type": "code",
   "execution_count": 104,
   "metadata": {
    "execution": {
     "iopub.execute_input": "2023-10-01T12:22:33.296202Z",
     "iopub.status.busy": "2023-10-01T12:22:33.295730Z",
     "iopub.status.idle": "2023-10-01T12:22:33.535752Z",
     "shell.execute_reply": "2023-10-01T12:22:33.534611Z",
     "shell.execute_reply.started": "2023-10-01T12:22:33.296171Z"
    }
   },
   "outputs": [
    {
     "data": {
      "image/png": "[encoded data removed]",
      "text/plain": [
       "<Figure size 720x720 with 1 Axes>"
      ]
     },
     "metadata": {
      "needs_background": "light"
     },
     "output_type": "display_data"
    }
   ],
   "source": [
    "import numpy as np\n",
    "import matplotlib.pyplot as plt\n",
    "\n",
    "x = ['Random-Forest', 'Decision-Tree', 'GaussianNB', 'Nearest-Neighbors', 'SVM']\n",
    "width = 0.35\n",
    "X = np.arange(len(x))\n",
    "plt.figure(figsize=(10, 10))\n",
    "\n",
    "# Define different colors for Depression and Anxiety datasets\n",
    "depression_color = 'r'\n",
    "anxiety_color = 'b'\n",
    "\n",
    "# Plot the accuracy scores for Depression and Anxiety with different colors\n",
    "bar1 = plt.bar(X, Result_Depression['Accuracy(%)'], width, color=depression_color, label='Depression')\n",
    "bar2 = plt.bar(X + width, Result_Anxiety['Accuracy(%)'], width, color=anxiety_color, label='Anxiety', alpha=0.7)\n",
    "\n",
    "# Annotate the bars with the corresponding values\n",
    "for bar in bar1 + bar2:\n",
    "    plt.text(bar.get_x() + bar.get_width() / 2, bar.get_height() + 1, str(int(bar.get_height())),\n",
    "             ha='center', color='m', fontsize=11)\n",
    "\n",
    "plt.xticks(X + width / 2, x)\n",
    "plt.legend(loc='upper left')\n",
    "plt.title('Accuracy Scores for Different Models for the Depression and Anxiety Datasets')\n",
    "plt.ylabel('Percentage', fontsize=17, color='red')\n",
    "plt.xlabel('Models', fontsize=15, color='red')\n",
    "for pos in ['right', 'top', 'bottom', 'left']:\n",
    "    plt.gca().spines[pos].set_visible(False)\n",
    "plt.show()"
   ]
  },
  {
   "cell_type": "code",
   "execution_count": 105,
   "metadata": {
    "execution": {
     "iopub.execute_input": "2023-10-01T12:24:43.479009Z",
     "iopub.status.busy": "2023-10-01T12:24:43.478534Z",
     "iopub.status.idle": "2023-10-01T12:24:45.630287Z",
     "shell.execute_reply": "2023-10-01T12:24:45.628906Z",
     "shell.execute_reply.started": "2023-10-01T12:24:43.478978Z"
    }
   },
   "outputs": [
    {
     "data": {
      "image/png": "[encoded data removed]",
      "text/plain": [
       "<Figure size 720x720 with 1 Axes>"
      ]
     },
     "metadata": {
      "needs_background": "light"
     },
     "output_type": "display_data"
    }
   ],
   "source": [
    "import numpy as np\n",
    "import matplotlib.pyplot as plt\n",
    "\n",
    "x = ['Random-Forest', 'Decision-Tree', 'GaussianNB', 'Nearest-Neighbors', 'SVM']\n",
    "width = 0.25\n",
    "X = np.arange(len(x))\n",
    "plt.figure(figsize=(10, 10))\n",
    "\n",
    "# Define different colors for Depression and Anxiety datasets\n",
    "depression_color = 'mistyrose'\n",
    "anxiety_color = 'plum'\n",
    "\n",
    "# Plot the F1 Score for Depression and Anxiety with different colors\n",
    "bar1 = plt.bar(X, Result_Depression['F1_Score(%)'], width, color=depression_color, label='Depression')\n",
    "bar2 = plt.bar(X - width, Result_Anxiety['F1_Score(%)'], width, color=anxiety_color, label='Anxiety')\n",
    "\n",
    "# Annotate the bars with the corresponding values\n",
    "for bar in bar1 + bar2:\n",
    "    plt.text(bar.get_x() + bar.get_width() / 2, bar.get_height() + 1, str(int(bar.get_height())),\n",
    "             ha='center', color='crimson', fontsize=11)\n",
    "\n",
    "plt.xticks(X, x)\n",
    "plt.legend(loc='upper left')\n",
    "plt.title('F1 Scores for Different Models for the Depression and Anxiety Datasets')\n",
    "plt.ylabel('Percentage', fontsize=17, color='red')\n",
    "plt.xlabel('Models', fontsize=15, color='red')\n",
    "for pos in ['right', 'top', 'bottom', 'left']:\n",
    "    plt.gca().spines[pos].set_visible(False)\n",
    "plt.show()"
   ]
  },
  {
   "cell_type": "code",
   "execution_count": 106,
   "metadata": {
    "execution": {
     "iopub.execute_input": "2023-10-01T12:25:27.604843Z",
     "iopub.status.busy": "2023-10-01T12:25:27.604426Z",
     "iopub.status.idle": "2023-10-01T12:25:27.863924Z",
     "shell.execute_reply": "2023-10-01T12:25:27.862508Z",
     "shell.execute_reply.started": "2023-10-01T12:25:27.604812Z"
    }
   },
   "outputs": [
    {
     "data": {
      "image/png": "[encoded data removed]",
      "text/plain": [
       "<Figure size 720x720 with 1 Axes>"
      ]
     },
     "metadata": {
      "needs_background": "light"
     },
     "output_type": "display_data"
    }
   ],
   "source": [
    "import numpy as np\n",
    "import matplotlib.pyplot as plt\n",
    "\n",
    "x = ['Random-Forest', 'Decision-Tree', 'GaussianNB', 'Nearest-Neighbors', 'SVM']\n",
    "width = 0.25\n",
    "X = np.arange(len(x))\n",
    "plt.figure(figsize=(10, 10))\n",
    "\n",
    "# Define different colors for Depression and Anxiety datasets\n",
    "depression_color = 'black'\n",
    "anxiety_color = 'pink'\n",
    "\n",
    "# Plot the Precision Score for Depression and Anxiety with different colors\n",
    "bar1 = plt.bar(X, Result_Depression['Precision(%)'], width, color=depression_color, label='Depression')\n",
    "bar2 = plt.bar(X - width, Result_Anxiety['Precision(%)'], width, color=anxiety_color, label='Anxiety')\n",
    "\n",
    "# Annotate the bars with the corresponding values\n",
    "for bar in bar1 + bar2:\n",
    "    plt.text(bar.get_x() + bar.get_width() / 2, bar.get_height() + 1, str(int(bar.get_height())),\n",
    "             ha='center', color='gray', fontsize=11)\n",
    "\n",
    "plt.xticks(X, x)\n",
    "plt.legend(loc='upper left')\n",
    "plt.title('Precision Scores for Different Models for the Depression and Anxiety Datasets')\n",
    "plt.ylabel('Percentage', fontsize=17, color='red')\n",
    "plt.xlabel('Models', fontsize=15, color='red')\n",
    "for pos in ['right', 'top', 'bottom', 'left']:\n",
    "    plt.gca().spines[pos].set_visible(False)\n",
    "plt.show()"
   ]
  },
  {
   "cell_type": "code",
   "execution_count": 107,
   "metadata": {
    "execution": {
     "iopub.execute_input": "2023-10-01T12:26:11.941347Z",
     "iopub.status.busy": "2023-10-01T12:26:11.940853Z",
     "iopub.status.idle": "2023-10-01T12:26:12.254882Z",
     "shell.execute_reply": "2023-10-01T12:26:12.253524Z",
     "shell.execute_reply.started": "2023-10-01T12:26:11.941297Z"
    }
   },
   "outputs": [
    {
     "data": {
      "image/png": "[encoded data removed]",
      "text/plain": [
       "<Figure size 720x720 with 1 Axes>"
      ]
     },
     "metadata": {
      "needs_background": "light"
     },
     "output_type": "display_data"
    }
   ],
   "source": [
    "import numpy as np\n",
    "import matplotlib.pyplot as plt\n",
    "\n",
    "x = ['Random-Forest', 'Decision-Tree', 'GaussianNB', 'Nearest-Neighbors', 'SVM']\n",
    "width = 0.25\n",
    "X = np.arange(len(x))\n",
    "plt.figure(figsize=(10, 10))\n",
    "\n",
    "# Define different colors for Depression and Anxiety datasets\n",
    "depression_color = 'indigo'\n",
    "anxiety_color = 'violet'\n",
    "\n",
    "# Plot the Recall Score for Depression and Anxiety with different colors\n",
    "bar1 = plt.bar(X, Result_Depression['Recall(%)'], width, color=depression_color, label='Depression')\n",
    "bar2 = plt.bar(X - width, Result_Anxiety['Recall(%)'], width, color=anxiety_color, label='Anxiety')\n",
    "\n",
    "# Annotate the bars with the corresponding values\n",
    "for bar in bar1 + bar2:\n",
    "    plt.text(bar.get_x() + bar.get_width() / 2, bar.get_height() + 1, str(int(bar.get_height())),\n",
    "             ha='center', color='darkorange', fontsize=11)\n",
    "\n",
    "plt.xticks(X, x)\n",
    "plt.legend(loc='upper left')\n",
    "plt.title('Recall Scores for Different Models for the Depression and Anxiety Datasets')\n",
    "plt.ylabel('Percentage', fontsize=17, color='red')\n",
    "plt.xlabel('Models', fontsize=15, color='red')\n",
    "for pos in ['right', 'top', 'bottom', 'left']:\n",
    "    plt.gca().spines[pos].set_visible(False)\n",
    "plt.show()"
   ]
  },
  {
   "cell_type": "code",
   "execution_count": null,
   "metadata": {},
   "outputs": [],
   "source": []
  }
 ],
 "metadata": {
  "kernelspec": {
   "display_name": "Python 3 (ipykernel)",
   "language": "python",
   "name": "python3"
  },
  "language_info": {
   "codemirror_mode": {
    "name": "ipython",
    "version": 3
   },
   "file_extension": ".py",
   "mimetype": "text/x-python",
   "name": "python",
   "nbconvert_exporter": "python",
   "pygments_lexer": "ipython3",
   "version": "3.9.7"
  }
 },
 "nbformat": 4,
 "nbformat_minor": 4
}
